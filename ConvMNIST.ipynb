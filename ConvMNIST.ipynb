{
 "cells": [
  {
   "cell_type": "code",
   "execution_count": 12,
   "id": "9249351d-34bb-46df-831e-3c5349f387ac",
   "metadata": {},
   "outputs": [],
   "source": [
    "import numpy as np\n",
    "from numba import njit\n",
    "from sklearn.metrics import accuracy_score"
   ]
  },
  {
   "cell_type": "code",
   "execution_count": 13,
   "id": "62127fde-a498-4eb9-9027-c3ec814912db",
   "metadata": {},
   "outputs": [],
   "source": [
    "from Library.NN import Layer,Linear,RMSProp,CELoss,Dropout,L1Regularization,FlattenConv,NeuralNetwork,ReLU,Tanh,Conv2D,MaxPool2D"
   ]
  },
  {
   "cell_type": "markdown",
   "id": "32ec85a8-4c53-45aa-bb07-70dcc1ba8722",
   "metadata": {},
   "source": [
    "<h3>28x28 Digits Dataset</h3>"
   ]
  },
  {
   "cell_type": "code",
   "execution_count": 18,
   "id": "d668ec8b-9a6d-4694-bf11-2ffa680280fc",
   "metadata": {},
   "outputs": [],
   "source": [
    "import pandas as pd\n",
    "import matplotlib.pyplot as plt\n",
    "import seaborn as sns\n",
    "%matplotlib inline\n",
    "\n",
    "df = pd.read_csv('digits.csv')[:1_000]\n",
    "\n",
    "X = df.drop('label',axis=1).values/255\n",
    "y = df['label'].values\n",
    "\n",
    "train_size = int(len(X)*0.8)\n",
    "\n",
    "X_train,X_val = X[:train_size],X[train_size:]\n",
    "y_train,y_val = y[:train_size],y[train_size:]"
   ]
  },
  {
   "cell_type": "markdown",
   "id": "ffbe38c7-fdd6-487a-b927-2746bde77cca",
   "metadata": {},
   "source": [
    "<h3>Testing Logistic Regression</h3>"
   ]
  },
  {
   "cell_type": "code",
   "execution_count": 19,
   "id": "f25a8df7-52d1-42d6-9faf-48eee9851e53",
   "metadata": {},
   "outputs": [
    {
     "name": "stdout",
     "output_type": "stream",
     "text": [
      "LogisticRegression accuracy score is :  0.87\n"
     ]
    }
   ],
   "source": [
    "from sklearn.linear_model import LogisticRegressionCV\n",
    "lr = LogisticRegressionCV()\n",
    "lr.fit(X_train,y_train)\n",
    "pred = lr.predict(X_val)\n",
    "print(\"LogisticRegression accuracy score is : \" , accuracy_score(y_val,pred))"
   ]
  },
  {
   "cell_type": "code",
   "execution_count": 20,
   "id": "436d37fa-85f4-437f-9f12-e8e0c0d22318",
   "metadata": {},
   "outputs": [
    {
     "name": "stdout",
     "output_type": "stream",
     "text": [
      "(800, 1, 28, 28) (800, 1) (800, 10)\n",
      "[9]\n"
     ]
    },
    {
     "data": {
      "image/png": "[encoded data removed]",
      "text/plain": [
       "<Figure size 640x480 with 1 Axes>"
      ]
     },
     "metadata": {},
     "output_type": "display_data"
    }
   ],
   "source": [
    "X = X.reshape((1_000,1,28,28))\n",
    "y = y.reshape((1_000,1))\n",
    "\n",
    "one_hot_y = np.zeros((len(y),10))\n",
    "for i in range(len(y)):\n",
    "    one_hot_y[i][y[i]] = 1\n",
    "\n",
    "train_size = int(len(X)*0.8)\n",
    "\n",
    "X_train,X_val = X[:train_size],X[train_size:]\n",
    "y_train,y_val = y[:train_size],y[train_size:]\n",
    "one_hot_y_train,one_hot_y_val = one_hot_y[:train_size],one_hot_y[train_size:]\n",
    "\n",
    "print(X_train.shape,y_train.shape,one_hot_y_train.shape)\n",
    "print(y_train[27])\n",
    "plt.imshow(X_train[27][0])\n",
    "plt.show()"
   ]
  },
  {
   "cell_type": "markdown",
   "id": "d483f89e-980c-4c5c-9bfb-89e688058348",
   "metadata": {},
   "source": [
    "<h3>8X8 Digits Dataset</h3>"
   ]
  },
  {
   "cell_type": "code",
   "execution_count": 21,
   "id": "1d10cfab-e388-4bb2-a7e8-b4f09b5a00ac",
   "metadata": {},
   "outputs": [],
   "source": [
    "# from sklearn.datasets import load_digits\n",
    "# data = load_digits()\n",
    "# X = data['data'][:]\n",
    "# y = data['target'][:]\n",
    "\n",
    "\n",
    "# one_hot_y = np.zeros((len(y),10))\n",
    "# for i in range(len(y)):\n",
    "#     one_hot_y[i][y[i]] = 1\n",
    "# X = X/X.max()\n",
    "# X = X.reshape((1797,1,8,8))\n",
    "# train_size = int(len(X)*0.7)\n",
    "# X_train,X_val = X[:train_size],X[train_size:]\n",
    "# y_train,y_val = y[:train_size],y[train_size:]\n",
    "# one_hot_y_train,one_hot_y_val = one_hot_y[:train_size],one_hot_y[train_size:]\n",
    "\n",
    "# print(X_train.shape,y_train.shape,one_hot_y_train.shape)\n",
    "# plt.imshow(X_train[0][0])\n",
    "# plt.show()"
   ]
  },
  {
   "cell_type": "markdown",
   "id": "53ee8014-f251-4bee-b264-43d1e831168a",
   "metadata": {},
   "source": [
    "<h3>Now lets test the convolutional NeuralNetwork</h3>"
   ]
  },
  {
   "cell_type": "code",
   "execution_count": 22,
   "id": "2264ffa4-3540-4b25-9a00-f6d260c835be",
   "metadata": {},
   "outputs": [],
   "source": [
    "def train(model, X, y, optimizer, loss, epochs, print_every, batch_size=-1, return_losses=False, X_val=None, y_val=None,Decay=None):\n",
    "    train_losses = [] \n",
    "    val_losses = [] \n",
    "    n = len(X)\n",
    "    if batch_size == -1 or batch_size > n:\n",
    "        batch_size = n\n",
    "    num_batches = (n // batch_size)\n",
    "    for e in range(epochs):\n",
    "        epoch_loss = 0\n",
    "        indices = np.arange(n)\n",
    "        np.random.shuffle(indices)\n",
    "        X_shuffled = X[indices].astype(float)\n",
    "        y_shuffled = y[indices].astype(float)\n",
    "\n",
    "        for i in range(0, n, batch_size):\n",
    "            X_batch = X_shuffled[i:i + batch_size]\n",
    "            y_batch = y_shuffled[i:i + batch_size]\n",
    "\n",
    "            output = model.forward(X_batch)\n",
    "            error = loss.loss(y_batch, output)\n",
    "            epoch_loss += error\n",
    "\n",
    "            loss.backwards()\n",
    "            optimizer.step()\n",
    "\n",
    "        epoch_loss = epoch_loss/(num_batches)\n",
    "        train_losses.append(epoch_loss)\n",
    "\n",
    "        if Decay is not None:\n",
    "            Decay.step()\n",
    "\n",
    "        if X_val is not None and y_val is not None:\n",
    "            val_output = model.predict(X_val)\n",
    "            val_error = loss.loss(y_val, val_output)\n",
    "            val_losses.append(val_error)\n",
    "            conv_pred = np.argmax(val_output,axis=1)\n",
    "            \n",
    "            if (e+1) % print_every == 0:\n",
    "                print(\"Epoch:\", e+1, \"\\tTrain Loss:\", np.round(epoch_loss, 5), \"\\tValidation Loss:\", np.round(val_error, 5), \"\\tValidation accuracy:\",\n",
    "                     np.round(accuracy_score(conv_pred,np.argmax(y_val,axis=1)),5))\n",
    "        else:\n",
    "            if (e+1) % print_every == 0:\n",
    "                print(\"Epoch:\", e+1, \"\\tTrain Loss:\", np.round(epoch_loss, 5))\n",
    "\n",
    "    if return_losses:\n",
    "        if X_val is not None and y_val is not None:\n",
    "            return train_losses,val_losses\n",
    "        else:\n",
    "            return train_losses"
   ]
  },
  {
   "cell_type": "code",
   "execution_count": 23,
   "id": "1b99c9f3-da7c-49c2-9ffc-47bd55cfa38d",
   "metadata": {},
   "outputs": [
    {
     "data": {
      "text/plain": [
       "(800, 1, 28, 28)"
      ]
     },
     "execution_count": 23,
     "metadata": {},
     "output_type": "execute_result"
    }
   ],
   "source": [
    "X_train.shape"
   ]
  },
  {
   "cell_type": "code",
   "execution_count": 35,
   "id": "5eef753a-04ed-45be-bd5e-f5e122b15b1f",
   "metadata": {},
   "outputs": [],
   "source": [
    "layers = [\n",
    "    Conv2D(input_shape=(1,28,28),kernel_size=3,num_kernels=32),\n",
    "    MaxPool2D(2),\n",
    "    ReLU(),\n",
    "    Dropout(0.7),\n",
    "\n",
    "    Conv2D(input_shape=(32,12,12),kernel_size=3,num_kernels=64),\n",
    "    MaxPool2D(2),\n",
    "    ReLU(),\n",
    "    Dropout(0.7),\n",
    "    \n",
    "    FlattenConv(),\n",
    "    Linear(1_600,10)\n",
    "]\n",
    "NN = NeuralNetwork(layers=layers)\n",
    "optim = RMSProp(NN.layers,lr=0.001)\n",
    "loss = CELoss(NN.layers,apply_softmax=True,regularization=L1Regularization())"
   ]
  },
  {
   "cell_type": "code",
   "execution_count": 36,
   "id": "d75f2c1e-d1b6-425a-923e-2dbb0f14568a",
   "metadata": {},
   "outputs": [
    {
     "data": {
      "text/plain": [
       "(800, 1, 28, 28)"
      ]
     },
     "execution_count": 36,
     "metadata": {},
     "output_type": "execute_result"
    }
   ],
   "source": [
    "X_train.shape"
   ]
  },
  {
   "cell_type": "code",
   "execution_count": null,
   "id": "f87127b7-eafc-4687-976a-2a6ec0357d13",
   "metadata": {},
   "outputs": [
    {
     "name": "stdout",
     "output_type": "stream",
     "text": [
      "Epoch: 1 \tTrain Loss: 6.37335 \tValidation Loss: 3.40283 \tValidation accuracy: 0.06\n",
      "Epoch: 2 \tTrain Loss: 4.33554 \tValidation Loss: 2.53126 \tValidation accuracy: 0.235\n",
      "Epoch: 3 \tTrain Loss: 3.39606 \tValidation Loss: 1.92155 \tValidation accuracy: 0.3\n",
      "Epoch: 4 \tTrain Loss: 2.63861 \tValidation Loss: 1.22493 \tValidation accuracy: 0.45\n",
      "Epoch: 5 \tTrain Loss: 2.12922 \tValidation Loss: 0.78865 \tValidation accuracy: 0.56\n",
      "Epoch: 6 \tTrain Loss: 1.69094 \tValidation Loss: 0.94599 \tValidation accuracy: 0.575\n",
      "Epoch: 7 \tTrain Loss: 1.29176 \tValidation Loss: 0.84787 \tValidation accuracy: 0.59\n",
      "Epoch: 8 \tTrain Loss: 1.13226 \tValidation Loss: 0.69771 \tValidation accuracy: 0.635\n",
      "Epoch: 9 \tTrain Loss: 0.90348 \tValidation Loss: 0.63647 \tValidation accuracy: 0.68\n",
      "Epoch: 10 \tTrain Loss: 0.82827 \tValidation Loss: 0.49403 \tValidation accuracy: 0.705\n",
      "Epoch: 11 \tTrain Loss: 0.75093 \tValidation Loss: 0.38928 \tValidation accuracy: 0.785\n",
      "Epoch: 12 \tTrain Loss: 0.73781 \tValidation Loss: 0.45975 \tValidation accuracy: 0.745\n",
      "Epoch: 13 \tTrain Loss: 0.70547 \tValidation Loss: 0.36726 \tValidation accuracy: 0.825\n",
      "Epoch: 14 \tTrain Loss: 0.579 \tValidation Loss: 0.41205 \tValidation accuracy: 0.815\n",
      "Epoch: 15 \tTrain Loss: 0.59946 \tValidation Loss: 0.34201 \tValidation accuracy: 0.85\n",
      "Epoch: 16 \tTrain Loss: 0.53595 \tValidation Loss: 0.30036 \tValidation accuracy: 0.85\n",
      "Epoch: 17 \tTrain Loss: 0.60606 \tValidation Loss: 0.29388 \tValidation accuracy: 0.89\n",
      "Epoch: 18 \tTrain Loss: 0.47179 \tValidation Loss: 0.28113 \tValidation accuracy: 0.89\n",
      "Epoch: 19 \tTrain Loss: 0.54639 \tValidation Loss: 0.24869 \tValidation accuracy: 0.9\n",
      "Epoch: 20 \tTrain Loss: 0.4741 \tValidation Loss: 0.22662 \tValidation accuracy: 0.925\n",
      "Epoch: 21 \tTrain Loss: 0.49871 \tValidation Loss: 0.20013 \tValidation accuracy: 0.915\n",
      "Epoch: 22 \tTrain Loss: 0.46583 \tValidation Loss: 0.25525 \tValidation accuracy: 0.915\n",
      "Epoch: 23 \tTrain Loss: 0.40871 \tValidation Loss: 0.19496 \tValidation accuracy: 0.925\n",
      "Epoch: 24 \tTrain Loss: 0.44812 \tValidation Loss: 0.19085 \tValidation accuracy: 0.955\n",
      "Epoch: 25 \tTrain Loss: 0.41735 \tValidation Loss: 0.18833 \tValidation accuracy: 0.935\n",
      "Epoch: 26 \tTrain Loss: 0.37491 \tValidation Loss: 0.19365 \tValidation accuracy: 0.955\n",
      "Epoch: 27 \tTrain Loss: 0.38545 \tValidation Loss: 0.18039 \tValidation accuracy: 0.935\n",
      "Epoch: 28 \tTrain Loss: 0.3736 \tValidation Loss: 0.18328 \tValidation accuracy: 0.925\n"
     ]
    }
   ],
   "source": [
    "train_losses,val_losses = train(model=NN,\n",
    "               X=X_train,\n",
    "               y=one_hot_y_train,\n",
    "               optimizer=optim,\n",
    "               loss=loss,\n",
    "               epochs=100,\n",
    "               print_every=1,\n",
    "               batch_size=100,\n",
    "               return_losses=True,\n",
    "               X_val=X_val,\n",
    "               y_val=one_hot_y_val)"
   ]
  },
  {
   "cell_type": "markdown",
   "id": "6861bbda-f9e9-49fa-abfa-b92ad461551a",
   "metadata": {},
   "source": [
    "<h3>The convolutional model after 26 epochs reached 0.955 accuracy on the validation set while the logistic regression model got only 0.87</h3>"
   ]
  }
 ],
 "metadata": {
  "kernelspec": {
   "display_name": "Python 3 (ipykernel)",
   "language": "python",
   "name": "python3"
  },
  "language_info": {
   "codemirror_mode": {
    "name": "ipython",
    "version": 3
   },
   "file_extension": ".py",
   "mimetype": "text/x-python",
   "name": "python",
   "nbconvert_exporter": "python",
   "pygments_lexer": "ipython3",
   "version": "3.12.4"
  }
 },
 "nbformat": 4,
 "nbformat_minor": 5
}
