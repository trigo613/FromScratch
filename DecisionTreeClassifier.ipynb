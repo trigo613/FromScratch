{
 "cells": [
  {
   "cell_type": "code",
   "execution_count": 1,
   "id": "47de2fa8-fca1-4d49-aa14-2fbc9610449b",
   "metadata": {},
   "outputs": [],
   "source": [
    "import numpy as np"
   ]
  },
  {
   "cell_type": "code",
   "execution_count": 2,
   "id": "14bdb1c2-8dc4-4d61-a5d4-f4369152b011",
   "metadata": {},
   "outputs": [],
   "source": [
    "MIN_SPLIT = 10\n",
    "MIN_SAMPLES_LEAF = 5\n",
    "MAX_HEIGHT = 5\n",
    "CONTINUOUS = \"CO\"\n",
    "CATEGORICAL = \"CA\""
   ]
  },
  {
   "cell_type": "code",
   "execution_count": 3,
   "id": "7720ceb3-4f77-476e-8767-53b199f0bf94",
   "metadata": {},
   "outputs": [],
   "source": [
    "#Sorts a matrix by a given column\n",
    "def sort_by_column(matrix,sort_coordinate):\n",
    "    new_order = matrix[:,sort_coordinate].argsort()\n",
    "    out = matrix.copy()[new_order]\n",
    "    return out"
   ]
  },
  {
   "cell_type": "code",
   "execution_count": 4,
   "id": "8bd92973-0ec7-4e9f-8d51-33f0a2f000c5",
   "metadata": {},
   "outputs": [],
   "source": [
    "class Node:\n",
    "    def __init__(self,val,column,function,prediction=None):\n",
    "        self.val = val\n",
    "        self.function = function #recieves two numbers and returns either True or False, True go left, False go right\n",
    "        self.column = column\n",
    "        self.left = None\n",
    "        self.right = None\n",
    "        self.prediction = prediction #Mode of all samples that pass trough node"
   ]
  },
  {
   "cell_type": "code",
   "execution_count": 5,
   "id": "b46e0f98-4e30-490e-82d9-b8697a331f87",
   "metadata": {},
   "outputs": [],
   "source": [
    "class DecisionTreeClassifier:\n",
    "    def __init__(self,error = \"gini\",max_height = MAX_HEIGHT,min_samples_leaf = MIN_SAMPLES_LEAF,min_split = MIN_SPLIT):\n",
    "        self.head = None\n",
    "        self.error_metric = self.__return_error_metric(error)\n",
    "        self.max_height = max_height\n",
    "        self.min_samples_leaf = min_samples_leaf\n",
    "        self.min_split = min_split\n",
    "\n",
    "    def __mode(self,arr):\n",
    "        unique, counts = np.unique(arr, return_counts=True)\n",
    "        max_id = np.argmax(counts)\n",
    "        return unique[max_id]\n",
    "\n",
    "    def __is_smaller(self,a,b):\n",
    "        return a<b\n",
    "\n",
    "    def __is_equal(self,a,b):\n",
    "        return a==b\n",
    "\n",
    "    def __measure_array_gini(self,arr):\n",
    "        unique, counts = np.unique(arr, return_counts=True)\n",
    "        return 1-sum((counts/len(arr))**2)\n",
    "\n",
    "    def __measure_array_entropy(self,arr):\n",
    "        unique, counts = np.unique(arr, return_counts=True)\n",
    "        probabilities = (counts/len(arr))\n",
    "        log_probabilities = np.log(probabilities)\n",
    "        return -1*sum(probabilities*log_probabilities)\n",
    "\n",
    "    def __return_error_metric(self,error):\n",
    "        if error == 'entropy':\n",
    "            return self.__measure_array_entropy\n",
    "        else:\n",
    "            return self.__measure_array_gini\n",
    "        \n",
    "    def __find_continuous_column_best_split(self,data,column):\n",
    "        data = sort_by_column(data,column)\n",
    "        \n",
    "        column_data = data[:,column]\n",
    "        \n",
    "        best_error = np.inf\n",
    "\n",
    "        best_split_val = None\n",
    "        \n",
    "        best_left,best_right = None,None\n",
    "\n",
    "        last_val = column_data[0]\n",
    "            \n",
    "        for i in range(self.min_samples_leaf,len(column_data)-self.min_samples_leaf):\n",
    "            if column_data[i] == last_val:\n",
    "                continue\n",
    "\n",
    "            last_val = column_data[i]\n",
    "\n",
    "            split_val = (column_data[i] + column_data[i-1])/2\n",
    "            \n",
    "            left_arr = data[:i , :]\n",
    "            right_arr = data[i: , :]\n",
    "            \n",
    "            split_error = self.error_metric(left_arr[:,-1]) + self.error_metric(right_arr[:,-1]) \n",
    "\n",
    "            \n",
    "            if split_error < best_error:\n",
    "                \n",
    "                best_error =  split_error\n",
    "                best_split_val = split_val\n",
    "                best_left = left_arr\n",
    "                best_right = right_arr\n",
    "                \n",
    "        \n",
    "        return best_split_val,best_error,best_left,best_right\n",
    "    \n",
    "    def __find_categorical_column_best_split(self,data,column):    \n",
    "        column_data = data[:,column]\n",
    "    \n",
    "        classes = np.unique(column_data)\n",
    "        \n",
    "        best_error = np.inf\n",
    "        \n",
    "        best_split_val = None\n",
    "        \n",
    "        best_left,best_right = None,None\n",
    "            \n",
    "        for c in classes:\n",
    "            left_arr = data[column_data == c]\n",
    "            right_arr = data[column_data != c]\n",
    "    \n",
    "            if len(left_arr) < self.min_samples_leaf or len(right_arr) < self.min_samples_leaf:\n",
    "                continue\n",
    "            \n",
    "            split_error = self.error_metric(left_arr[:,-1]) + self.error_metric(right_arr[:,-1]) \n",
    "            if split_error < best_error:\n",
    "                \n",
    "                best_error =  split_error\n",
    "                best_split_val = c\n",
    "                best_left = left_arr\n",
    "                best_right = right_arr\n",
    "                \n",
    "        \n",
    "        return best_split_val,best_error,best_left,best_right\n",
    "    \n",
    "    def __find_column_best_split(self,data,column,data_type):\n",
    "        if data_type == CATEGORICAL:\n",
    "            return self.__find_categorical_column_best_split(data,column)\n",
    "        if data_type == CONTINUOUS:\n",
    "            return self.__find_continuous_column_best_split(data,column)\n",
    "\n",
    "    def __find_best_split(self,data,data_types):\n",
    "        best_column = -1\n",
    "        best_val = data[0][0]\n",
    "        best_error = np.inf\n",
    "        best_left = None\n",
    "        best_right = None\n",
    "        for col in range(len(data[0])-1): #Iterate over all columns but the last one which is the label\n",
    "            col_best_split_val,col_best_error,col_best_left,col_best_right = self.__find_column_best_split(data,col,data_types[col])\n",
    "            if col_best_error < best_error:\n",
    "                best_val,best_error,best_left,best_right = col_best_split_val,col_best_error,col_best_left,col_best_right\n",
    "                best_column = col\n",
    "        return best_column,best_val,best_left,best_right\n",
    "    \n",
    "    def __build_tree(self,data,data_types,height=0):\n",
    "        if (height >= self.max_height) or (len(data) <= self.min_split):\n",
    "            return None\n",
    "        best_column,best_val,left_data,right_data = self.__find_best_split(data,data_types)\n",
    "        if left_data is None:\n",
    "            return None\n",
    "        function = self.__is_smaller if data_types[best_column] == CONTINUOUS else self.__is_equal\n",
    "        prediction = self.__mode(data[:,-1])\n",
    "        node = Node(val=best_val,column=best_column,function=function,prediction=prediction)\n",
    "        node.left = self.__build_tree(left_data,data_types,height+1)\n",
    "        node.right = self.__build_tree(right_data,data_types,height+1)\n",
    "        return node\n",
    "    \n",
    "    def fit(self,X,y,data_types):\n",
    "        H = np.hstack([X,y.reshape(len(y),1)]).copy()\n",
    "        self.head = self.__build_tree(H,data_types)\n",
    "\n",
    "    def __predict_point(self,x):\n",
    "        prev = None\n",
    "        curr = self.head\n",
    "        while curr is not None:\n",
    "            col_to_check = curr.column\n",
    "            val = curr.val\n",
    "            function = curr.function\n",
    "            prev = curr\n",
    "            if function(x[col_to_check] , val):\n",
    "                curr = curr.left\n",
    "            else:\n",
    "                curr = curr.right\n",
    "        return prev.prediction\n",
    "\n",
    "    def predict(self,X):\n",
    "        out = []\n",
    "        for x in X:\n",
    "            out.append(self.__predict_point(x))\n",
    "        return np.array(out)"
   ]
  },
  {
   "cell_type": "markdown",
   "id": "2bee6bc7-388a-4fa4-a688-da20deb913d1",
   "metadata": {},
   "source": [
    "<h3>Using our model and comparing it to Sklearn's DecisionTreeClassifier</h3>"
   ]
  },
  {
   "cell_type": "code",
   "execution_count": 6,
   "id": "40f41751-37cd-48ed-bc61-648b0d9a1cf2",
   "metadata": {},
   "outputs": [],
   "source": [
    "import pandas as pd\n",
    "from sklearn.datasets import load_iris\n",
    "data = load_iris()"
   ]
  },
  {
   "cell_type": "markdown",
   "id": "63997092-b8a8-4eb4-8d62-b6cc38c7258e",
   "metadata": {},
   "source": [
    "<h5>Flower classification dataset from sklearn</h5>"
   ]
  },
  {
   "cell_type": "code",
   "execution_count": 7,
   "id": "6a20879a-d2db-4d6e-8207-bdbb2059100e",
   "metadata": {
    "scrolled": true
   },
   "outputs": [
    {
     "data": {
      "text/plain": [
       "(array([[5.1, 3.5, 1.4, 0.2],\n",
       "        [4.9, 3. , 1.4, 0.2],\n",
       "        [4.7, 3.2, 1.3, 0.2],\n",
       "        [4.6, 3.1, 1.5, 0.2],\n",
       "        [5. , 3.6, 1.4, 0.2]]),\n",
       " array([0, 0, 0, 0, 0]))"
      ]
     },
     "execution_count": 7,
     "metadata": {},
     "output_type": "execute_result"
    }
   ],
   "source": [
    "data['data'][:5],data['target'][:5]"
   ]
  },
  {
   "cell_type": "code",
   "execution_count": 8,
   "id": "91c57777-c657-4de2-bbb4-5e5535ec81d2",
   "metadata": {},
   "outputs": [],
   "source": [
    "data_types = [CONTINUOUS,CONTINUOUS,CONTINUOUS,CONTINUOUS]"
   ]
  },
  {
   "cell_type": "code",
   "execution_count": 9,
   "id": "72a924a6-b10d-4c7e-8448-b990bee754a8",
   "metadata": {},
   "outputs": [],
   "source": [
    "indexes = np.array(list(range(len(data['data']))))\n",
    "np.random.shuffle(indexes)\n",
    "X = data['data'][indexes]\n",
    "y = data['target'][indexes]\n",
    "test_size = int(len(X)/3)\n",
    "X_train, X_test, y_train, y_test = X[:-test_size],X[-test_size:],y[:-test_size],y[-test_size:]"
   ]
  },
  {
   "cell_type": "code",
   "execution_count": 10,
   "id": "dc223350-6482-4d68-b657-ecacf7b96126",
   "metadata": {},
   "outputs": [],
   "source": [
    "DT = DecisionTreeClassifier(error='entropy')\n",
    "DT.fit(X_train,y_train,data_types)\n",
    "my_pred = DT.predict(X_test) "
   ]
  },
  {
   "cell_type": "code",
   "execution_count": 11,
   "id": "379f46a0-bd6e-4021-b4b4-304869b2b0dc",
   "metadata": {},
   "outputs": [
    {
     "data": {
      "text/plain": [
       "array([1., 2., 2., 2., 0., 0., 1., 1., 2., 0.])"
      ]
     },
     "execution_count": 11,
     "metadata": {},
     "output_type": "execute_result"
    }
   ],
   "source": [
    "my_pred[:10]"
   ]
  },
  {
   "cell_type": "markdown",
   "id": "d2804b60-dc91-426a-91b1-7779fd0ce217",
   "metadata": {},
   "source": [
    "<h3>Now lets try with Sklearn</h3>"
   ]
  },
  {
   "cell_type": "code",
   "execution_count": 12,
   "id": "56cca6e3-74c6-4509-bbbf-4329cf4726c0",
   "metadata": {},
   "outputs": [],
   "source": [
    "from sklearn.tree import DecisionTreeClassifier as DTR\n",
    "DTR = DTR(max_depth=MAX_HEIGHT,min_samples_leaf=MIN_SAMPLES_LEAF,min_samples_split=MIN_SPLIT,criterion='entropy')\n",
    "DTR.fit(X_train,y_train)\n",
    "sklearn_pred = DTR.predict(X_test)"
   ]
  },
  {
   "cell_type": "markdown",
   "id": "e711ff00-0908-4e00-8c14-cbc252a78c33",
   "metadata": {},
   "source": [
    "<h3>Now lets compare the performance</h3>"
   ]
  },
  {
   "cell_type": "code",
   "execution_count": 13,
   "id": "8968d758-f67c-4441-bc61-2b19d9bef4ee",
   "metadata": {},
   "outputs": [],
   "source": [
    "from sklearn.metrics import accuracy_score"
   ]
  },
  {
   "cell_type": "code",
   "execution_count": 14,
   "id": "3c2bd038-d3ce-4f0e-bb6b-2564da4f0574",
   "metadata": {},
   "outputs": [
    {
     "name": "stdout",
     "output_type": "stream",
     "text": [
      "Sklearn's tree performance :  0.92\n",
      "Our tree's performance :  0.92\n"
     ]
    }
   ],
   "source": [
    "print(\"Sklearn's tree performance : \" , accuracy_score(y_test,sklearn_pred))\n",
    "print(\"Our tree's performance : \" , accuracy_score(y_test,my_pred))"
   ]
  }
 ],
 "metadata": {
  "kernelspec": {
   "display_name": "Python 3 (ipykernel)",
   "language": "python",
   "name": "python3"
  },
  "language_info": {
   "codemirror_mode": {
    "name": "ipython",
    "version": 3
   },
   "file_extension": ".py",
   "mimetype": "text/x-python",
   "name": "python",
   "nbconvert_exporter": "python",
   "pygments_lexer": "ipython3",
   "version": "3.12.4"
  }
 },
 "nbformat": 4,
 "nbformat_minor": 5
}
