{
 "cells": [
  {
   "cell_type": "code",
   "execution_count": 1,
   "id": "5869ac77-5897-4ea3-b117-01b91165ab30",
   "metadata": {},
   "outputs": [],
   "source": [
    "import numpy as np"
   ]
  },
  {
   "cell_type": "markdown",
   "id": "a903caf4-ecb9-43d5-a19b-6f5ade17b236",
   "metadata": {},
   "source": [
    "<h3>Loading regression data</h3>"
   ]
  },
  {
   "cell_type": "code",
   "execution_count": 2,
   "id": "06618e2a-79bf-4cd3-a033-5a1682103576",
   "metadata": {},
   "outputs": [],
   "source": [
    "import pandas as pd\n",
    "data = pd.read_csv('student.csv').drop('Extracurricular Activities',axis=1)\n",
    "X = data.drop('Performance Index',axis=1).values\n",
    "y = data['Performance Index'].values"
   ]
  },
  {
   "cell_type": "code",
   "execution_count": 3,
   "id": "b3f7d04c-e271-4fa7-b3f8-b7660761b055",
   "metadata": {},
   "outputs": [
    {
     "data": {
      "text/plain": [
       "(array([[ 7, 99,  9,  1],\n",
       "        [ 4, 82,  4,  2],\n",
       "        [ 8, 51,  7,  2]], dtype=int64),\n",
       " array([91., 65., 45.]))"
      ]
     },
     "execution_count": 3,
     "metadata": {},
     "output_type": "execute_result"
    }
   ],
   "source": [
    "X[:3],y[:3]"
   ]
  },
  {
   "cell_type": "markdown",
   "id": "7035cddb-935e-4805-a80b-e6216f2788dc",
   "metadata": {},
   "source": [
    "<h4>Scaling X's columns</h4>"
   ]
  },
  {
   "cell_type": "code",
   "execution_count": 4,
   "id": "0334a95e-a086-4d8c-b5b2-9fbc8061c3cf",
   "metadata": {},
   "outputs": [],
   "source": [
    "for i in range(X.shape[1]):\n",
    "    col_min = X[:,i].min()\n",
    "    col_max = X[:,i].max()\n",
    "    X[:,i] = (X[:,i]-col_min)/(col_max-col_min)\n",
    "X = np.round(X,3)"
   ]
  },
  {
   "cell_type": "markdown",
   "id": "ced160dc-856b-4e92-af59-e56e36019a25",
   "metadata": {},
   "source": [
    "<h3>Scaling y</h3>"
   ]
  },
  {
   "cell_type": "code",
   "execution_count": 5,
   "id": "3bdd1aca-32c3-413b-a6d3-cf0aa5f3f1c2",
   "metadata": {},
   "outputs": [],
   "source": [
    "y = (y-y.min())/(y.max()-y.min())"
   ]
  },
  {
   "cell_type": "code",
   "execution_count": 6,
   "id": "d3858ad2-3e88-4aa5-8637-4d56ef9bbcec",
   "metadata": {},
   "outputs": [
    {
     "data": {
      "text/plain": [
       "(array([[0, 1, 1, 0],\n",
       "        [0, 0, 0, 0],\n",
       "        [0, 0, 0, 0]], dtype=int64),\n",
       " array([0.9       , 0.61111111, 0.38888889]))"
      ]
     },
     "execution_count": 6,
     "metadata": {},
     "output_type": "execute_result"
    }
   ],
   "source": [
    "X[:3],y[:3]"
   ]
  },
  {
   "cell_type": "code",
   "execution_count": 7,
   "id": "d814fc20-f74f-4681-a999-98b7b775aecb",
   "metadata": {},
   "outputs": [],
   "source": [
    "train_index = int(0.65*len(X))\n",
    "val_index = int(0.75*len(X))\n",
    "X_train,X_val,X_test = X[0:train_index],X[train_index:val_index],X[val_index:]\n",
    "y_train,y_val,y_test = y[0:train_index],y[train_index:val_index],y[val_index:]"
   ]
  },
  {
   "cell_type": "code",
   "execution_count": 8,
   "id": "227f0530-e6e8-4586-864f-fbd5497d4d64",
   "metadata": {},
   "outputs": [],
   "source": [
    "class LinearRegressor:\n",
    "    def __init__(self,lr=0.01,penalty='l2',penalty_alpha=0.01,l1_ratio=0.5,force_positive=False):\n",
    "        self.loss_func = None\n",
    "        self.learning_rate = lr\n",
    "        self.l1_ratio = l1_ratio\n",
    "        self.penalty = penalty\n",
    "        self.penalty_alpha = penalty_alpha \n",
    "        self.w = None\n",
    "        self.force_positive = force_positive\n",
    "        self.penalty_func = self.__None_penalty\n",
    "        self.__init_penalty_func()\n",
    "\n",
    "    def __init_penalty_func(self):\n",
    "        if self.penalty == 'l2':\n",
    "            self.penalty_func = self.__l2_penalty\n",
    "        elif self.penalty == 'l1':\n",
    "            self.penalty_func = self.__l1_penalty\n",
    "        elif self.penalty == 'elastic':\n",
    "            self.penalty_func = self.__elastic_penalty\n",
    "        \n",
    "    def __mean_squared_error(self,y_true,y_pred):\n",
    "        return sum((y_true-y_pred)**2)/len(y_true)\n",
    "\n",
    "    def __l1_penalty(self):\n",
    "        return np.sign(self.w)*self.penalty_alpha\n",
    "\n",
    "    def __l2_penalty(self):\n",
    "        return self.w*self.penalty_alpha\n",
    "\n",
    "    def __None_penalty(self):\n",
    "        return 0\n",
    "\n",
    "    def __elastic_penalty(self):\n",
    "        return ((1-self.l1_ratio) * self.__l2_penalty()) + (self.l1_ratio * self.__l1_penalty())\n",
    "\n",
    "    def __backpropagation(self,X_train,y_true,y_pred):        \n",
    "        gradient = np.dot(X_train.transpose(),(2/len(y_true))*(y_pred-y_true))\n",
    "        gradient += self.penalty_func()\n",
    "        self.w = self.w - self.learning_rate*gradient\n",
    "        if self.force_positive:\n",
    "            self.w = self.w*(self.w > 0)\n",
    "\n",
    "    def __epoch(self,X_train,y_train):\n",
    "        y_pred = np.dot(X_train,self.w)\n",
    "        self.__backpropagation(X_train,y_train,y_pred)\n",
    "\n",
    "    def __init_weights(self,X):\n",
    "        self.w = np.zeros((X.shape[1]+1, 1)) \n",
    "\n",
    "    def __return_expanded_X(self,X):\n",
    "        ones_column = np.ones((X.shape[0], 1))\n",
    "        return np.hstack((X, ones_column))  \n",
    "    \n",
    "    def __return_expanded_y(self,y):\n",
    "        if len(y.shape) == 2:\n",
    "            return y\n",
    "        return np.expand_dims(y,axis=1)\n",
    "        \n",
    "    def fit(self,X_train_,y_train_,X_val_=None,y_val_=None,epochs=100,patience = 10):\n",
    "        if self.w is None:\n",
    "            self.__init_weights(X_train_)\n",
    "        \n",
    "        X_train = self.__return_expanded_X(X_train_)\n",
    "        y_train = self.__return_expanded_y(y_train_)\n",
    "        \n",
    "        if (X_val_ is not None) and (y_val_ is not None):\n",
    "            X_val = self.__return_expanded_X(X_val_)\n",
    "            y_val = self.__return_expanded_y(y_val_)\n",
    "            \n",
    "        epochs_no_improvement = 0\n",
    "        best_validation_error = np.inf\n",
    "        best_weights = self.w\n",
    "        for epoch in range(epochs):\n",
    "            self.__epoch(X_train,y_train)\n",
    "            \n",
    "            #Evaluate model\n",
    "            if X_val_ is not None:\n",
    "                val_error = self.__mean_squared_error(y_val,np.dot(X_val,self.w))\n",
    "                if val_error < best_validation_error:\n",
    "                    best_validation_error = val_error\n",
    "                    best_weights = self.w.copy()\n",
    "                    epochs_no_improvement = 0\n",
    "                else:\n",
    "                    epochs_no_improvement += 1\n",
    "                    if epochs_no_improvement > patience:\n",
    "                        self.w = best_weights\n",
    "                        break\n",
    "        if X_val_ is not None:\n",
    "            print(\"ran for \",epoch,\" epochs\")\n",
    "\n",
    "\n",
    "    def predict(self,X):\n",
    "        return np.dot(self.__return_expanded_X(X),self.w)"
   ]
  },
  {
   "cell_type": "markdown",
   "id": "c0c93fac-b98c-44c2-9586-aef33c4db5cc",
   "metadata": {},
   "source": [
    "<h4>Error metric</h4>"
   ]
  },
  {
   "cell_type": "code",
   "execution_count": 9,
   "id": "3bd94533-5567-452f-8da6-dc289c882d8f",
   "metadata": {},
   "outputs": [],
   "source": [
    "def rmse(y_true,y_pred):\n",
    "    return np.sqrt(sum((y_true-y_pred)**2)/len(y_true))"
   ]
  },
  {
   "cell_type": "code",
   "execution_count": 10,
   "id": "6d4b1724-551c-4d3a-a33f-5831ff925952",
   "metadata": {
    "scrolled": true
   },
   "outputs": [
    {
     "name": "stdout",
     "output_type": "stream",
     "text": [
      "ran for  999  epochs\n",
      "Our model's error is :  0.2081\n"
     ]
    }
   ],
   "source": [
    "lr = LinearRegressor(penalty='elastic',lr=0.01,penalty_alpha=0.01,force_positive=False)\n",
    "lr.fit(X_train,y_train,X_val,y_val,epochs=1_000,patience=100)\n",
    "y_pred = lr.predict(X_test).reshape((len(y_test),))\n",
    "print(\"Our model's error is : \" , np.round(rmse(y_test,y_pred),4))"
   ]
  },
  {
   "cell_type": "markdown",
   "id": "74f27a6a-db81-4d8e-a698-78e67e9d0ac3",
   "metadata": {},
   "source": [
    "<h3>Now we compare to Sklearn's ElasticNet</h3>"
   ]
  },
  {
   "cell_type": "code",
   "execution_count": 11,
   "id": "18acb027-a565-4089-a682-637bc368dca6",
   "metadata": {},
   "outputs": [],
   "source": [
    "from sklearn.linear_model import ElasticNet"
   ]
  },
  {
   "cell_type": "code",
   "execution_count": 12,
   "id": "7ae9e903-ea72-4593-9adf-e23ec6a59d95",
   "metadata": {},
   "outputs": [
    {
     "name": "stdout",
     "output_type": "stream",
     "text": [
      "Sklearn's ElasticNet model's error is :  0.2094\n"
     ]
    }
   ],
   "source": [
    "sk_lr = ElasticNet(tol=0.0001,max_iter=1_000,alpha=0.01,positive=False)\n",
    "sk_lr.fit(X_train,y_train)\n",
    "sk_y_pred = sk_lr.predict(X_test).reshape((len(y_test),))\n",
    "print(\"Sklearn's ElasticNet model's error is : \" , np.round(rmse(y_test,sk_y_pred),4))"
   ]
  },
  {
   "cell_type": "markdown",
   "id": "57490249-26ed-4bbd-a054-128c90422e8d",
   "metadata": {},
   "source": [
    "<h3>Not bad!</h3>"
   ]
  }
 ],
 "metadata": {
  "kernelspec": {
   "display_name": "Python 3 (ipykernel)",
   "language": "python",
   "name": "python3"
  },
  "language_info": {
   "codemirror_mode": {
    "name": "ipython",
    "version": 3
   },
   "file_extension": ".py",
   "mimetype": "text/x-python",
   "name": "python",
   "nbconvert_exporter": "python",
   "pygments_lexer": "ipython3",
   "version": "3.12.4"
  }
 },
 "nbformat": 4,
 "nbformat_minor": 5
}
