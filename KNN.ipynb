{
 "cells": [
  {
   "cell_type": "code",
   "execution_count": 1,
   "id": "0543d946-4a3f-4059-95c0-f8efbe6a8ca7",
   "metadata": {},
   "outputs": [],
   "source": [
    "import numpy as np"
   ]
  },
  {
   "cell_type": "code",
   "execution_count": 2,
   "id": "d3db6f8d-51e0-4bac-ba4c-039159d8ae85",
   "metadata": {},
   "outputs": [],
   "source": [
    "def calculate_distance(a,b):\n",
    "    return np.sqrt(sum((a-b)**2))\n",
    "    \n",
    "def calculate_axis_distance(a,b,axis):\n",
    "    return np.abs(a[axis]-b[axis])\n",
    "\n",
    "def sort_by_column(data,sort_coordinate):\n",
    "    new_order = data[:,sort_coordinate].argsort()\n",
    "    data = data[new_order]\n",
    "    return data"
   ]
  },
  {
   "cell_type": "code",
   "execution_count": 3,
   "id": "9284ef94-f78f-4277-9c90-0c0a7bac5736",
   "metadata": {},
   "outputs": [],
   "source": [
    "class KDNode:\n",
    "    def __init__(self,val,axis,label):\n",
    "        self.val = val\n",
    "        self.axis = axis\n",
    "        self.label = label\n",
    "        self.left = None\n",
    "        self.right = None"
   ]
  },
  {
   "cell_type": "code",
   "execution_count": 4,
   "id": "995f1025-d5e5-46f1-80cd-1ca38f12a5e5",
   "metadata": {},
   "outputs": [],
   "source": [
    "class KDTree:\n",
    "    def __init__(self):\n",
    "        self.head = None\n",
    "    \n",
    "    def fit(self,data):\n",
    "        self.head = self.__build_tree(data)\n",
    "    \n",
    "    def __build_tree(self,data,axis=0):\n",
    "        if len(data) == 0:\n",
    "            return None\n",
    "        \n",
    "        next_axis = (axis+1)%(data.shape[1]-1) #last column is reserved for label\n",
    "        \n",
    "        data = sort_by_column(data,axis)\n",
    "        median = data[len(data)//2][axis]\n",
    "        med_id = np.where(data[:,axis]==median)[0][0]\n",
    "        left_data = data[:med_id]\n",
    "        right_data = data[med_id+1:]\n",
    "        \n",
    "        node_val,node_label = data[med_id][:-1], int(data[med_id][-1])\n",
    "        node_axis = axis\n",
    "        node = KDNode(val=node_val,axis=node_axis,label=node_label)\n",
    "        \n",
    "        node.left = self.__build_tree(left_data,next_axis)\n",
    "        node.right = self.__build_tree(right_data,next_axis)\n",
    "        \n",
    "        return node\n",
    "        \n",
    "    def find_k_closest(self,val,k):\n",
    "        k_min_distances = np.array([np.inf]*k)\n",
    "        k_min_nodes = np.array([None]*k)\n",
    "        self.__find_k_closest_go_down(self.head,val,k,k_min_distances,k_min_nodes)\n",
    "        return k_min_nodes,k_min_distances\n",
    "    \n",
    "    def __find_k_closest_go_down(self,node,val,k,k_min_distances,k_min_nodes):\n",
    "        if node is None:\n",
    "            return\n",
    "        curr_dist = calculate_distance(node.val,val)\n",
    "        max_id = np.argmax(k_min_distances)\n",
    "        if curr_dist >= k_min_distances[max_id]:\n",
    "            pass\n",
    "        else:\n",
    "            k_min_distances[max_id] = curr_dist\n",
    "            k_min_nodes[max_id] = node\n",
    "        \n",
    "        axis = node.axis\n",
    "        if (val[axis] < node.val[axis]): #Go left\n",
    "            self.__find_k_closest_go_down(node.left,val,k,k_min_distances,k_min_nodes)\n",
    "            if (calculate_axis_distance(val,node.val,axis) < np.max(k_min_distances)): #Check if need to go right too\n",
    "                self.__find_k_closest_go_down(node.right,val,k,k_min_distances,k_min_nodes)\n",
    "        \n",
    "        elif (val[axis] >= node.val[axis]): #Go right\n",
    "            self.__find_k_closest_go_down(node.right,val,k,k_min_distances,k_min_nodes)\n",
    "            if (calculate_axis_distance(val,node.val,axis) < np.max(k_min_distances)):#Check if need to go left too\n",
    "                self.__find_k_closest_go_down(node.left,val,k,k_min_distances,k_min_nodes)"
   ]
  },
  {
   "cell_type": "code",
   "execution_count": 5,
   "id": "60e3de32-16ca-412d-bcec-353303ded953",
   "metadata": {},
   "outputs": [],
   "source": [
    "class KNN:\n",
    "    def __init__(self,k=5):\n",
    "        self.tree = KDTree()\n",
    "        self.k = k\n",
    "\n",
    "    def fit(self,X,y):\n",
    "        data = np.hstack([X,y.reshape(len(y),1)]).copy()\n",
    "        self.tree.fit(data)\n",
    "\n",
    "    def __predict_point(self,point):\n",
    "        k_closest,_ = self.tree.find_k_closest(point,self.k)\n",
    "        labels = np.array([node.label for node in k_closest])\n",
    "        counts = np.bincount(labels)\n",
    "        label = np.argmax(counts)\n",
    "        return label\n",
    "\n",
    "    def predict(self,X):\n",
    "        out = []\n",
    "        for point in X:\n",
    "            out.append(self.__predict_point(point))\n",
    "        return np.array(out)"
   ]
  },
  {
   "cell_type": "markdown",
   "id": "a530c854-b469-466d-a525-06607376a0a3",
   "metadata": {},
   "source": [
    "<h3>Verifying that our KNN works the same as Sklearn's KNeighborsClassifier</h3>"
   ]
  },
  {
   "cell_type": "code",
   "execution_count": 6,
   "id": "3e2f7ad0-81d3-4f16-a7c8-31a6c6c951d6",
   "metadata": {
    "scrolled": true
   },
   "outputs": [],
   "source": [
    "from sklearn.neighbors import KNeighborsClassifier\n",
    "\n",
    "k = 5\n",
    "cols = 4\n",
    "rows = 10_000\n",
    "test_size = 100\n",
    "num_classes = 10\n",
    "\n",
    "X = np.random.random((rows,cols))\n",
    "y = np.random.randint(0,num_classes,size = (rows,))\n",
    "\n",
    "X_train,X_test = X[:-test_size],X[-test_size:]\n",
    "y_train,y_test = y[:-test_size],y[-test_size:]"
   ]
  },
  {
   "cell_type": "code",
   "execution_count": 7,
   "id": "e3ba744d-1830-4068-93ad-eb979ba9e1c0",
   "metadata": {},
   "outputs": [],
   "source": [
    "my_knn = KNN(k)\n",
    "my_knn.fit(X_train,y_train)\n",
    "my_pred = my_knn.predict(X_test)"
   ]
  },
  {
   "cell_type": "code",
   "execution_count": 8,
   "id": "dde9bb2e-63ec-4806-85f3-fa15806edc1a",
   "metadata": {},
   "outputs": [],
   "source": [
    "knn = KNeighborsClassifier(k)\n",
    "knn.fit(X_train,y_train)\n",
    "pred = knn.predict(X_test)"
   ]
  },
  {
   "cell_type": "markdown",
   "id": "207f30a6-97eb-4005-a101-b33f1bba07ae",
   "metadata": {},
   "source": [
    "<h3>Results are equal :)</h3>"
   ]
  },
  {
   "cell_type": "code",
   "execution_count": 9,
   "id": "d2a2c2d0-94b2-4ff5-967b-a03a513f55ca",
   "metadata": {},
   "outputs": [
    {
     "data": {
      "text/plain": [
       "array([ True,  True,  True,  True,  True,  True,  True,  True,  True,\n",
       "        True,  True,  True,  True,  True,  True,  True,  True,  True,\n",
       "        True,  True,  True,  True,  True,  True,  True,  True,  True,\n",
       "        True,  True,  True,  True,  True,  True,  True,  True,  True,\n",
       "        True,  True,  True,  True,  True,  True,  True,  True,  True,\n",
       "        True,  True,  True,  True,  True,  True,  True,  True,  True,\n",
       "        True,  True,  True,  True,  True,  True,  True,  True,  True,\n",
       "        True,  True,  True,  True,  True,  True,  True,  True,  True,\n",
       "        True,  True,  True,  True,  True,  True,  True,  True,  True,\n",
       "        True,  True,  True,  True,  True,  True,  True,  True,  True,\n",
       "        True,  True,  True,  True,  True,  True,  True,  True,  True,\n",
       "        True])"
      ]
     },
     "execution_count": 9,
     "metadata": {},
     "output_type": "execute_result"
    }
   ],
   "source": [
    "my_pred == pred"
   ]
  },
  {
   "cell_type": "code",
   "execution_count": null,
   "id": "ca069a90-480b-4eff-b76b-76eeb0525b74",
   "metadata": {},
   "outputs": [],
   "source": []
  }
 ],
 "metadata": {
  "kernelspec": {
   "display_name": "Python 3 (ipykernel)",
   "language": "python",
   "name": "python3"
  },
  "language_info": {
   "codemirror_mode": {
    "name": "ipython",
    "version": 3
   },
   "file_extension": ".py",
   "mimetype": "text/x-python",
   "name": "python",
   "nbconvert_exporter": "python",
   "pygments_lexer": "ipython3",
   "version": "3.12.4"
  }
 },
 "nbformat": 4,
 "nbformat_minor": 5
}
