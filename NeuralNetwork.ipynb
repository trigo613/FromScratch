{
 "cells": [
  {
   "cell_type": "code",
   "execution_count": 1,
   "id": "e44beaaf-133c-46f6-8527-ffbc59d75058",
   "metadata": {},
   "outputs": [],
   "source": [
    "import numpy as np"
   ]
  },
  {
   "cell_type": "code",
   "execution_count": 2,
   "id": "04e66841-6d80-4a20-8de2-85c169de3f57",
   "metadata": {},
   "outputs": [],
   "source": [
    "class Layer:\n",
    "    def __init__(self):\n",
    "        self.input_data = None \n",
    "        self.output_data = None\n",
    "        self.is_parameterized = False\n",
    "    def forward(self,X):\n",
    "        pass\n",
    "\n",
    "    def predict(self,X):\n",
    "        return self.forward(X)\n",
    "    \n",
    "    def compute_gradient(self,output_error):\n",
    "        pass\n",
    "    def apply_gradient(self,learning_rate,gradients=[]):\n",
    "        pass\n",
    "    def get_gradients(self):\n",
    "        return []\n",
    "\n",
    "    def backward(self,output_error):\n",
    "        pass\n",
    "        \n",
    "    def get_regularization_weights(self):\n",
    "        return []\n",
    "\n",
    "    def get_regularization_gradients(self):\n",
    "        return []"
   ]
  },
  {
   "cell_type": "code",
   "execution_count": 3,
   "id": "7c0044e7-1656-4818-91df-7c040a01416b",
   "metadata": {},
   "outputs": [],
   "source": [
    "class Activation(Layer):\n",
    "    def __init__(self):\n",
    "        super().__init__()\n",
    "        \n",
    "    def activation(self, X):\n",
    "        raise NotImplementedError(\"Function must be implemented in subclass\")\n",
    "\n",
    "    def d_activation(self, X):\n",
    "        raise NotImplementedError(\"Function must be implemented in subclass\")\n",
    "\n",
    "    def apply_gradient(self,learning_rate,gradients=[]):\n",
    "        pass\n",
    "\n",
    "    def forward(self, X):\n",
    "        self.input_data = X\n",
    "        self.output_data = self.activation(X)  # This should correctly update output_data in child class\n",
    "        return self.output_data\n",
    "\n",
    "    def backward(self,output_error):\n",
    "        return self.d_activation(self.input_data) * output_error\n",
    "\n",
    "    def compute_gradient(self, output_error):\n",
    "        input_error = self.d_activation(self.input_data) * output_error\n",
    "        return {'input_error': input_error, 'gradients': []}"
   ]
  },
  {
   "cell_type": "code",
   "execution_count": 4,
   "id": "1d336832-f933-47c6-a906-a8c1523bd849",
   "metadata": {},
   "outputs": [],
   "source": [
    "class Linear(Layer):\n",
    "    def __init__(self,input_size,output_size,weight_initialization='he'):\n",
    "        super().__init__()\n",
    "\n",
    "        self.input_size = input_size\n",
    "        self.output_size = output_size\n",
    "\n",
    "        self.initialize_weights(weight_initialization)\n",
    "        \n",
    "        self.dW = np.ones(shape=(self.input_size,self.output_size))\n",
    "        self.db = np.ones(shape=(1,self.output_size))\n",
    "\n",
    "        self.is_parameterized = True\n",
    "\n",
    "    def initialize_weights(self,init):\n",
    "        if init == 'random':\n",
    "            self.W = np.random.uniform(size=(self.input_size,self.output_size))-0.5\n",
    "        elif init == 'xavier': #Good for tanh\n",
    "            self.W = np.random.randn(self.input_size, self.output_size) * np.sqrt(1 / self.input_size)\n",
    "        elif init == 'xavierV2': #Good for tanh\n",
    "            self.W = np.random.randn(self.input_size, self.output_size) * np.sqrt(2 / (self.input_size+self.output_size))\n",
    "        elif init == 'he': #Good for relu\n",
    "            self.W = np.random.randn(self.input_size, self.output_size) * np.sqrt(2 / self.input_size)\n",
    "        self.b = np.zeros((1,self.output_size))\n",
    "\n",
    "\n",
    "\n",
    "    def forward(self,X):\n",
    "        self.input_data = X\n",
    "        self.output_data = np.dot(X,self.W) + self.b\n",
    "        return self.output_data\n",
    "\n",
    "    def get_gradients(self):\n",
    "        return [self.dW,self.db]\n",
    "\n",
    "    def backward(self,output_error):\n",
    "        self.dW = np.dot(self.input_data.transpose(),output_error)\n",
    "        self.db = np.sum(output_error,axis=0,keepdims=True)\n",
    "        return np.dot(output_error,self.W.transpose()) \n",
    "\n",
    "    def get_regularization_weights(self):\n",
    "        return [self.W]\n",
    "\n",
    "    def get_regularization_gradients(self):\n",
    "        return [self.dW]\n",
    "\n",
    "    def apply_gradient(self,learning_rate,gradients):\n",
    "        dW = gradients[0]\n",
    "        db = gradients[1]\n",
    "        self.W = self.W - (learning_rate*dW)\n",
    "        self.b = self.b - (learning_rate*db)"
   ]
  },
  {
   "cell_type": "code",
   "execution_count": 5,
   "id": "93b6925c-d6e8-4318-9dc5-5ad8d1ea26ff",
   "metadata": {},
   "outputs": [],
   "source": [
    "class BatchNormalization(Layer):\n",
    "    def __init__(self, input_size):\n",
    "        super().__init__()\n",
    "\n",
    "        self.input_size = input_size\n",
    "        self.X_norm = None\n",
    "\n",
    "        self.gamma = np.ones((1, self.input_size))\n",
    "        self.beta = np.zeros((1, self.input_size))\n",
    "        \n",
    "        self.dgamma = np.zeros((1, self.input_size))\n",
    "        self.dbeta = np.zeros((1, self.input_size))\n",
    "\n",
    "        self.average_list_size = 100\n",
    "        self.list_counter = 0\n",
    "\n",
    "        self.mew = np.zeros((1, self.input_size))\n",
    "        self.mew_list = np.zeros((self.average_list_size, self.input_size))\n",
    "        \n",
    "        self.sigma_squared = np.zeros((1, self.input_size))\n",
    "        self.sigma_squared_list = np.zeros((self.average_list_size, self.input_size))\n",
    "        \n",
    "        self.epsilon = 1e-15\n",
    "        self.is_parameterized = True\n",
    "\n",
    "    def forward(self, X):\n",
    "        self.input_data = X\n",
    "        n = len(X)\n",
    "        \n",
    "        self.mew = np.mean(X, axis=0, keepdims=True)\n",
    "        self.sigma_squared = (1/n) * np.sum((X - self.mew) ** 2, axis=0, keepdims=True)\n",
    "\n",
    "        self.list_counter = (self.list_counter + 1) % self.average_list_size\n",
    "        self.sigma_squared_list[self.list_counter] = self.sigma_squared\n",
    "        self.mew_list[self.list_counter] = self.mew\n",
    "        \n",
    "        self.denominator = np.sqrt(self.sigma_squared + self.epsilon)\n",
    "        self.X_norm = (X - self.mew) / self.denominator\n",
    "\n",
    "        self.output_data = self.gamma * self.X_norm + self.beta \n",
    "\n",
    "        return self.output_data\n",
    "\n",
    "    def predict(self, X):\n",
    "        sigma_squared = np.mean(self.sigma_squared_list, axis=0, keepdims=True)\n",
    "        mew = np.mean(self.mew_list, axis=0, keepdims=True)\n",
    "        X_norm = (X - mew) / np.sqrt(sigma_squared + self.epsilon)\n",
    "        return self.gamma * X_norm + self.beta\n",
    "\n",
    "    def get_gradients(self):\n",
    "        return [self.dgamma, self.dbeta]\n",
    "\n",
    "    def backward(self, output_error):\n",
    "        self.dbeta = np.sum(output_error, axis=0, keepdims=True)\n",
    "        self.dgamma = np.sum(self.X_norm * output_error, axis=0, keepdims=True)\n",
    "        \n",
    "        n = len(self.input_data)\n",
    "        dX_norm = output_error * self.gamma\n",
    "        X = self.input_data\n",
    "        nominator = X - self.mew\n",
    "        \n",
    "        d_nominator = 1  # Derivative of (X - self.mew) with respect to X is 1\n",
    "        d_denominator = 0.5 * (1 / self.denominator) * (2 * nominator / n)\n",
    "        \n",
    "        input_error = dX_norm * (d_nominator * self.denominator - nominator * d_denominator) / (self.denominator ** 2)\n",
    "        \n",
    "        return input_error\n",
    "\n",
    "\n",
    "    def get_regularization_weights(self):\n",
    "        return [self.gamma, self.beta]\n",
    "\n",
    "    def get_regularization_gradients(self):\n",
    "        return [self.dgamma, self.dbeta]\n",
    "\n",
    "    def apply_gradient(self, learning_rate, gradients):\n",
    "        dgamma, dbeta = gradients\n",
    "        self.gamma -= learning_rate * dgamma\n",
    "        self.beta -= learning_rate * dbeta"
   ]
  },
  {
   "cell_type": "code",
   "execution_count": 6,
   "id": "7d634d1e-467d-4b50-99a2-6e9c6b38c014",
   "metadata": {},
   "outputs": [],
   "source": [
    "class Dropout(Layer):\n",
    "    def __init__(self,keep_probability=0.5):\n",
    "        super().__init__()\n",
    "        self.keep_probability = keep_probability\n",
    "        self.D = None\n",
    "\n",
    "    def forward(self,X):\n",
    "        self.D = np.random.uniform(size=X.shape) < self.keep_probability\n",
    "        out = (X*self.D)/self.keep_probability\n",
    "        return out\n",
    "\n",
    "    def backward(self,output_error):\n",
    "        return self.D*output_error\n",
    "        \n",
    "        \n",
    "    def compute_gradient(self,output_error):\n",
    "        input_error = self.D * output_error\n",
    "        return {'input_error': input_error, 'gradients': []}\n",
    "\n",
    "    def predict(self,X):\n",
    "        return X"
   ]
  },
  {
   "cell_type": "code",
   "execution_count": 7,
   "id": "f5441d62-3e28-417e-b0a1-7c0eb8295548",
   "metadata": {},
   "outputs": [],
   "source": [
    "class ReLU(Activation):\n",
    "    def __init__(self):\n",
    "        super().__init__()\n",
    "        \n",
    "    def activation(self,X):\n",
    "        return X*(X>0)\n",
    "\n",
    "    def d_activation(self,X):\n",
    "        return (X>0).astype(int)"
   ]
  },
  {
   "cell_type": "code",
   "execution_count": 8,
   "id": "375adf27-392d-499a-8ea6-4c49b6fbc6f7",
   "metadata": {},
   "outputs": [],
   "source": [
    "class Sigmoid(Activation):        \n",
    "    def __init__(self):\n",
    "        super().__init__()\n",
    "        \n",
    "    def activation(self, X):\n",
    "        return 1 / (1 + np.exp(-X))\n",
    "\n",
    "    def d_activation(self, X):\n",
    "        s = self.output_data\n",
    "        return s * (1 - s)"
   ]
  },
  {
   "cell_type": "code",
   "execution_count": 9,
   "id": "5617fda2-1b97-477e-a5aa-d9700333dd85",
   "metadata": {},
   "outputs": [],
   "source": [
    "class Tanh(Activation):\n",
    "    def __init__(self):\n",
    "        super().__init__()\n",
    "        \n",
    "    def activation(self,X):\n",
    "        return np.tanh(X)\n",
    "        \n",
    "    def d_activation(self,X):\n",
    "        t = self.output_data\n",
    "        return  1. -(t**2)"
   ]
  },
  {
   "cell_type": "code",
   "execution_count": 10,
   "id": "9ad3fede-9e64-4fb3-8b5a-22bf7f7d80bb",
   "metadata": {},
   "outputs": [],
   "source": [
    "class NeuralNetwork:\n",
    "    def __init__(self,layers):\n",
    "        self.layers = layers\n",
    "\n",
    "    def forward(self,X):\n",
    "        output = X\n",
    "        for layer in self.layers:\n",
    "            output = layer.forward(output)\n",
    "        return output\n",
    "\n",
    "    def predict(self,X):\n",
    "        output = X\n",
    "        for layer in self.layers:\n",
    "            output = layer.predict(output)\n",
    "        return output"
   ]
  },
  {
   "cell_type": "code",
   "execution_count": 11,
   "id": "a642ca84-f40e-4c65-8427-d3299df5e289",
   "metadata": {},
   "outputs": [],
   "source": [
    "class Regularization:\n",
    "    def __init__(self,lambd = 0.01):\n",
    "        self.lambd = lambd\n",
    "    def get_weight_penalty(self,W,n):\n",
    "        raise NotImplementedError(\"Function must be implemented in subclass\")\n",
    "    def get_weight_gradient(self,W,n):\n",
    "        raise NotImplementedError(\"Function must be implemented in subclass\")"
   ]
  },
  {
   "cell_type": "code",
   "execution_count": 12,
   "id": "6e38220e-eec9-4529-8bd4-9c11e956fc6a",
   "metadata": {},
   "outputs": [],
   "source": [
    "class ZeroRegularization(Regularization):\n",
    "    def __init__(self,lambd = 0.01):\n",
    "        super().__init__(lambd)\n",
    "    def get_weight_penalty(self,W,n):\n",
    "        return 0\n",
    "    def get_weight_gradient(self,W,n):\n",
    "        return np.zeros_like(W)"
   ]
  },
  {
   "cell_type": "code",
   "execution_count": 13,
   "id": "4cfaeef4-93d4-4cc8-b55a-62f4dcd82b26",
   "metadata": {},
   "outputs": [],
   "source": [
    "class L2Regularization(Regularization):\n",
    "    def __init__(self,lambd = 0.01):\n",
    "        super().__init__(lambd)\n",
    "    def get_weight_penalty(self,W,n):\n",
    "        return (self.lambd/(2*n))*np.sum(W**2)\n",
    "    def get_weight_gradient(self,W,n):\n",
    "        return (self.lambd/n)*W"
   ]
  },
  {
   "cell_type": "code",
   "execution_count": 14,
   "id": "a7b2188e-87cd-4f6a-ad7a-e9c0aa6309a2",
   "metadata": {},
   "outputs": [],
   "source": [
    "class L1Regularization(Regularization):\n",
    "    def __init__(self,lambd = 0.01):\n",
    "        super().__init__(lambd)\n",
    "    def get_weight_penalty(self,W,n):\n",
    "        return  (self.lambd/n)*np.sum(np.abs(W))\n",
    "    def get_weight_gradient(self,W,n):\n",
    "        return (self.lambd/n)*((W>0).astype(int) - 0.5)*2"
   ]
  },
  {
   "cell_type": "code",
   "execution_count": 15,
   "id": "0d7f9c10-b401-4801-ad0a-a96632409521",
   "metadata": {},
   "outputs": [],
   "source": [
    "class Loss:\n",
    "    def __init__(self,layers = None,regularization=ZeroRegularization()):\n",
    "        self.layers = layers\n",
    "        self.parameterized_layers = [l for l in layers if l.is_parameterized]\n",
    "        self.regularization = regularization\n",
    "        self.error = 0\n",
    "        self.y_true = 0\n",
    "        self.y_pred = 0\n",
    "\n",
    "    def backwards(self):\n",
    "        output_error = self.compute_gradient(self.y_true,self.y_pred)\n",
    "        for i in range(len(self.layers)-1,-1,-1):\n",
    "            layer = self.layers[i]\n",
    "            output_error = layer.backward(output_error)\n",
    "            \n",
    "            layer_regularization_weights = layer.get_regularization_weights()\n",
    "            layer_gradients = layer.get_regularization_gradients()\n",
    "            for i in range(len(layer_regularization_weights)):\n",
    "                layer_gradients[i] += self.regularization.get_weight_gradient(layer_regularization_weights[i],len(self.y_true))\n",
    "    \n",
    "    def compute_gradient(self,y_true,y_pred):\n",
    "        pass\n",
    "    \n",
    "    def compute_loss(self,y_true,y_pred):\n",
    "        pass\n",
    "        \n",
    "    def loss(self,y_true,y_pred):\n",
    "        self.y_true = y_true\n",
    "        self.y_pred = y_pred\n",
    "        self.error = self.compute_loss(y_true,y_pred) \n",
    "        penalty = 0\n",
    "        for layer in self.parameterized_layers:\n",
    "            for weight in layer.get_regularization_weights():\n",
    "                penalty += self.regularization.get_weight_penalty(weight,len(self.y_true))\n",
    "        return self.error + penalty"
   ]
  },
  {
   "cell_type": "code",
   "execution_count": 16,
   "id": "b08a099c-002c-4b30-94ee-39d23d97aa74",
   "metadata": {},
   "outputs": [],
   "source": [
    "class MSELoss(Loss):\n",
    "    def __init__(self,layers = None,regularization=ZeroRegularization()):\n",
    "        super().__init__(layers,regularization)\n",
    "    def mse(self,y_true,y_pred):\n",
    "        out = y_pred - y_true\n",
    "        out = out**2\n",
    "        return np.mean(out)\n",
    "    def compute_gradient(self,y_true,y_pred):\n",
    "        out = (2/len(y_true))*(y_pred-y_true)\n",
    "        return out\n",
    "    def compute_loss(self,y_true,y_pred):\n",
    "        return self.mse(y_true,y_pred)"
   ]
  },
  {
   "cell_type": "code",
   "execution_count": 17,
   "id": "3e5d46aa-1103-48d5-8e95-3e1534f2b628",
   "metadata": {},
   "outputs": [],
   "source": [
    "class CELoss(Loss):\n",
    "    def __init__(self,layers = None,regularization=ZeroRegularization(),epsilon=1e-15,apply_softmax=True):\n",
    "        super().__init__(layers,regularization)\n",
    "        self.epsilon = epsilon\n",
    "        self.apply_softmax = apply_softmax\n",
    "\n",
    "    def softmax(self,X):\n",
    "        eX = np.exp(X)\n",
    "        denominator = np.sum(eX,axis=1,keepdims=True)\n",
    "        return eX/denominator\n",
    "\n",
    "    def _clip_probabilities(self, y_pred):\n",
    "        return np.clip(y_pred, self.epsilon, 1 - self.epsilon)\n",
    "\n",
    "    def compute_loss(self, y_true, y_pred):\n",
    "        if self.apply_softmax:\n",
    "            y_pred = self.softmax(y_pred)\n",
    "        y_pred = self._clip_probabilities(self.y_pred)\n",
    "        return -np.mean(y_true * np.log(y_pred) + (1 - y_true) * np.log(1 - y_pred))\n",
    "\n",
    "    def compute_gradient(self, y_true, y_pred):\n",
    "        y_pred = self._clip_probabilities(y_pred)\n",
    "        if self.apply_softmax:\n",
    "            return y_pred-y_true\n",
    "        return (y_pred - y_true) / (y_pred * (1 - y_pred))"
   ]
  },
  {
   "cell_type": "code",
   "execution_count": 18,
   "id": "34776b8d-30bb-4070-a4a0-52afc55391e9",
   "metadata": {},
   "outputs": [],
   "source": [
    "class LearninRateDecay:\n",
    "    def __init__(self,optimizer):\n",
    "        self.epoch = 0\n",
    "        self.optimizer = optimizer\n",
    "    def step(self):\n",
    "        pass"
   ]
  },
  {
   "cell_type": "code",
   "execution_count": 19,
   "id": "4868778d-a0fb-4451-8d7b-ab76174f11b6",
   "metadata": {},
   "outputs": [],
   "source": [
    "class InverseTimeDecay(LearninRateDecay):\n",
    "    def __init__(self,optimizer,decay=0.01):\n",
    "        super().__init__(optimizer)\n",
    "        self.decay=decay\n",
    "    def step(self):\n",
    "        self.optimizer.lr = self.optimizer.lr/(1+self.decay*self.epoch)\n",
    "        self.epoch += 1"
   ]
  },
  {
   "cell_type": "code",
   "execution_count": 20,
   "id": "a070948c-0980-48fe-ad82-b935a355bdf0",
   "metadata": {},
   "outputs": [],
   "source": [
    "class ExponentialDecay(LearninRateDecay):\n",
    "    def __init__(self,optimizer,base = 0.99):\n",
    "        super().__init__(optimizer)\n",
    "        self.base=base\n",
    "    def step(self):\n",
    "        self.optimizer.lr = self.optimizer.lr*(self.base**self.epoch)\n",
    "        self.epoch += 1"
   ]
  },
  {
   "cell_type": "code",
   "execution_count": 21,
   "id": "fd230753-80b3-4543-92bc-f1116ea4ec6e",
   "metadata": {},
   "outputs": [],
   "source": [
    "class Optimizer:\n",
    "    def __init__(self,layers,lr=0.01):\n",
    "        self.lr = lr\n",
    "        self.layers = [l for l in layers if l.is_parameterized]\n",
    "        self.final_gradients = {i:self.layers[i].get_gradients() for i in range(len(self.layers))}\n",
    "\n",
    "    def calculate_final_gradients(self):\n",
    "        raise NotImplementedError(\"Function must be implemented in subclass\")\n",
    "\n",
    "    def step(self):\n",
    "        self.calculate_final_gradients()\n",
    "        for i in range(0,len(self.layers)):\n",
    "            self.layers[i].apply_gradient(self.lr,self.final_gradients[i])"
   ]
  },
  {
   "cell_type": "code",
   "execution_count": 22,
   "id": "a6f00722-ef8d-400f-a45d-e83a6b78ce51",
   "metadata": {},
   "outputs": [],
   "source": [
    "class SimpleOptimizer(Optimizer):\n",
    "    def __init__(self,layers,lr=0.01):\n",
    "        super().__init__(layers,lr)\n",
    "\n",
    "    def calculate_final_gradients(self):\n",
    "        for i in range(len(self.layers)-1,-1,-1):\n",
    "            self.final_gradients[i] = self.layers[i].get_gradients()"
   ]
  },
  {
   "cell_type": "code",
   "execution_count": 23,
   "id": "65c52d9c-84f8-4b79-956f-63cb2da0ae7e",
   "metadata": {},
   "outputs": [],
   "source": [
    "class RMSProp(Optimizer):\n",
    "    def __init__(self,layers,lr=0.01,beta=0.9):\n",
    "        super().__init__(layers,lr)\n",
    "        self.beta = beta\n",
    "        self.epsilon = 1e-8\n",
    "        self.S_gradients = {i:self.layers[i].get_gradients() for i in range(len(self.layers))}\n",
    "        \n",
    "    def calculate_final_gradients(self):\n",
    "        for i in range(len(self.layers)-1,-1,-1):\n",
    "            gradients = self.layers[i].get_gradients()\n",
    "            for j in range(len(gradients)):\n",
    "                self.S_gradients[i][j] = self.beta*self.S_gradients[i][j] + (1-self.beta)*(gradients[j]**2)\n",
    "                self.final_gradients[i][j] = gradients[j]/((np.sqrt(self.S_gradients[i][j])) + self.epsilon)"
   ]
  },
  {
   "cell_type": "code",
   "execution_count": 24,
   "id": "b430ab84-d71a-4418-a8f8-0ccb14d2f6c0",
   "metadata": {},
   "outputs": [],
   "source": [
    "class Adam(Optimizer):\n",
    "    def __init__(self,layers,lr=0.01,beta_s=0.999,beta_v=0.9):\n",
    "        super().__init__(layers,lr)\n",
    "        \n",
    "        self.beta_s = beta_s\n",
    "        self.beta_v = beta_v\n",
    "        \n",
    "        self.t = 0\n",
    "        \n",
    "        self.epsilon = 1e-8\n",
    "        \n",
    "        self.S_gradients = {i:self.layers[i].get_gradients() for i in range(len(self.layers))}\n",
    "        self.V_gradients = {i:self.layers[i].get_gradients() for i in range(len(self.layers))}\n",
    "\n",
    "        \n",
    "    def calculate_final_gradients(self):\n",
    "        self.t+=1\n",
    "        for i in range(len(self.layers)-1,-1,-1):\n",
    "            gradients = self.layers[i].get_gradients()\n",
    "            for j in range(len(gradients)):\n",
    "                \n",
    "                self.S_gradients[i][j] = (self.beta_s*self.S_gradients[i][j]) + ((1-self.beta_s)*(gradients[j]**2))\n",
    "                corrected_s = self.S_gradients[i][j]/(1-(self.beta_s**self.t))\n",
    "\n",
    "                self.V_gradients[i][j] = (self.beta_v*self.V_gradients[i][j]) + ((1-self.beta_v)*gradients[j])\n",
    "                corrected_v = self.V_gradients[i][j]/(1-(self.beta_v**self.t))\n",
    "\n",
    "                self.final_gradients[i][j] = corrected_v/(np.sqrt(corrected_s) + self.epsilon)\n",
    "        "
   ]
  },
  {
   "cell_type": "markdown",
   "id": "d47ddbe0-fed8-4829-b14b-a8f3de65848d",
   "metadata": {},
   "source": [
    "<h3>Solving the Xor problem</h3>"
   ]
  },
  {
   "cell_type": "code",
   "execution_count": 25,
   "id": "e8f76337-ec22-41f9-aafd-255011d42172",
   "metadata": {},
   "outputs": [],
   "source": [
    "X = np.array([[0,0],[1,1],[0,1],[1,0]])\n",
    "y = np.array([0,0,1,1]).reshape(4,1)"
   ]
  },
  {
   "cell_type": "markdown",
   "id": "dba4d8d9-2ed0-4cf3-b699-0a6147f3237c",
   "metadata": {},
   "source": [
    "<h4>Here we can see how Logistic Regression fails to solve the Xor Problem</h4>"
   ]
  },
  {
   "cell_type": "code",
   "execution_count": 26,
   "id": "2dd9cc91-b666-40ff-bbb9-47c03af1a496",
   "metadata": {},
   "outputs": [],
   "source": [
    "import pandas as pd\n",
    "from sklearn.linear_model import LogisticRegression\n",
    "import matplotlib.pyplot as plt\n",
    "import seaborn as sns\n",
    "%matplotlib inline"
   ]
  },
  {
   "cell_type": "code",
   "execution_count": 27,
   "id": "4e0a3ceb-bc1c-41ac-b12c-8aa4644e6bcd",
   "metadata": {},
   "outputs": [
    {
     "name": "stdout",
     "output_type": "stream",
     "text": [
      "[0 0 0 0]\n"
     ]
    }
   ],
   "source": [
    "lr = LogisticRegression()\n",
    "lr.fit(X,y.reshape(4,))\n",
    "lr_pred = lr.predict(X)\n",
    "print(lr_pred)"
   ]
  },
  {
   "cell_type": "markdown",
   "id": "8aec9415-83d7-4004-9ec9-324eca30c6fa",
   "metadata": {},
   "source": [
    "<h4>Now let's check our Neural Network</h4>"
   ]
  },
  {
   "cell_type": "code",
   "execution_count": 28,
   "id": "ad50f2b4-bad4-4566-bf37-d094fed45d88",
   "metadata": {},
   "outputs": [],
   "source": [
    "def train(model, X, y, optimizer, loss, epochs, print_every, batch_size=-1, return_losses=False, X_val=None, y_val=None,Decay=None):\n",
    "    train_losses = [] \n",
    "    val_losses = [] \n",
    "    n = len(X)\n",
    "    if batch_size == -1 or batch_size > n:\n",
    "        batch_size = n\n",
    "    num_batches = (n // batch_size)\n",
    "    for e in range(epochs):\n",
    "        epoch_loss = 0\n",
    "        indices = np.arange(n)\n",
    "        np.random.shuffle(indices)\n",
    "        X_shuffled = X[indices].astype(float)\n",
    "        y_shuffled = y[indices].astype(float)\n",
    "\n",
    "        for i in range(0, n, batch_size):\n",
    "            X_batch = X_shuffled[i:i + batch_size]\n",
    "            y_batch = y_shuffled[i:i + batch_size]\n",
    "\n",
    "            output = model.forward(X_batch)\n",
    "            error = loss.loss(y_batch, output)\n",
    "            epoch_loss += error\n",
    "\n",
    "            loss.backwards()\n",
    "            optimizer.step()\n",
    "\n",
    "        epoch_loss = epoch_loss/(num_batches)\n",
    "        train_losses.append(epoch_loss)\n",
    "\n",
    "        if Decay is not None:\n",
    "            Decay.step()\n",
    "\n",
    "        if X_val is not None and y_val is not None:\n",
    "            val_output = model.predict(X_val)\n",
    "            val_error = loss.loss(y_val, val_output)\n",
    "            val_losses.append(val_error)\n",
    "            if (e+1) % print_every == 0:\n",
    "                print(\"Epoch:\", e+1, \"\\tTrain Loss:\", np.round(epoch_loss, 5), \"\\tValidation Loss:\", np.round(val_error, 5))\n",
    "        else:\n",
    "            if (e+1) % print_every == 0:\n",
    "                print(\"Epoch:\", e+1, \"\\tTrain Loss:\", np.round(epoch_loss, 5))\n",
    "\n",
    "    if return_losses:\n",
    "        if X_val is not None and y_val is not None:\n",
    "            return train_losses,val_losses\n",
    "        else:\n",
    "            return train_losses"
   ]
  },
  {
   "cell_type": "code",
   "execution_count": 29,
   "id": "aba8c8f5-e8a2-4f76-a280-a46f542208d4",
   "metadata": {},
   "outputs": [],
   "source": [
    "layers = [Linear(2,16), \n",
    "          ReLU(),\n",
    "          Linear(16,8) ,\n",
    "          ReLU(),\n",
    "          Linear(8,1)]\n",
    "\n",
    "NN = NeuralNetwork(layers=layers)\n",
    "optim = Adam(NN.layers,lr=0.01)\n",
    "loss = CELoss(NN.layers,apply_softmax=True)"
   ]
  },
  {
   "cell_type": "code",
   "execution_count": 30,
   "id": "ae77dcad-6783-48c8-8854-7bcf6cf768ee",
   "metadata": {
    "scrolled": true
   },
   "outputs": [
    {
     "name": "stdout",
     "output_type": "stream",
     "text": [
      "Epoch: 200 \tTrain Loss: 0.12819\n",
      "Epoch: 400 \tTrain Loss: 0.00093\n",
      "Epoch: 600 \tTrain Loss: 9e-05\n",
      "Epoch: 800 \tTrain Loss: 0.0\n",
      "Epoch: 1000 \tTrain Loss: 0.0\n",
      "Epoch: 1200 \tTrain Loss: 0.0\n",
      "Epoch: 1400 \tTrain Loss: 0.0\n",
      "Epoch: 1600 \tTrain Loss: 0.0\n",
      "Epoch: 1800 \tTrain Loss: 0.0\n",
      "Epoch: 2000 \tTrain Loss: 0.0\n"
     ]
    }
   ],
   "source": [
    "train(NN,X,y,optim,loss,2_000,200)"
   ]
  },
  {
   "cell_type": "code",
   "execution_count": 31,
   "id": "6b30e8d1-d730-4f09-a1a3-f25847a808d2",
   "metadata": {
    "scrolled": true
   },
   "outputs": [
    {
     "name": "stdout",
     "output_type": "stream",
     "text": [
      "Prediction is :  [0 0 1 1]\n",
      "y is :           [0 0 1 1]\n"
     ]
    }
   ],
   "source": [
    "print(\"Prediction is : \" , np.round(NN.predict(X).reshape(4,)).astype(int))\n",
    "print(\"y is :          \" , y.reshape(4,))"
   ]
  },
  {
   "cell_type": "markdown",
   "id": "ea750e8e-32e1-4258-880a-7c2f424cad59",
   "metadata": {},
   "source": [
    "<h3>Good Job!</h3>"
   ]
  },
  {
   "cell_type": "markdown",
   "id": "ff99171b-1c48-4795-a1ba-42c5e64542a2",
   "metadata": {},
   "source": [
    "<h1>Regularization Techniques</h1>"
   ]
  },
  {
   "cell_type": "markdown",
   "id": "1b290305-5d13-45e4-84ec-1dd622eb64c4",
   "metadata": {},
   "source": [
    "<h3>Importing regression data</h3>"
   ]
  },
  {
   "cell_type": "code",
   "execution_count": 32,
   "id": "63d745e1-044d-4c65-84ad-e8b8ae485abf",
   "metadata": {},
   "outputs": [],
   "source": [
    "import s3fs\n",
    "import pandas as pd\n",
    "data = pd.read_csv('house.csv')[['MSSubClass','LotFrontage','LotArea','PoolArea','MoSold','YrSold','SalePrice']].dropna()\n",
    "\n",
    "for col in data.columns:\n",
    "    M = data[col].max()\n",
    "    m = data[col].min()\n",
    "    data[col] = (data[col]-m)/(M-m)\n",
    "\n",
    "X = data.drop('SalePrice',axis=1).values\n",
    "y = data['SalePrice'].values\n",
    "y = y.reshape((len(y),1))\n",
    "\n",
    "train_size = int(len(X)*0.9)\n",
    "\n",
    "X_train,X_val = X[:train_size],X[train_size:]\n",
    "y_train,y_val = y[:train_size],y[train_size:]"
   ]
  },
  {
   "cell_type": "code",
   "execution_count": 33,
   "id": "c272929b-02b7-4ecb-83e0-7dcf9ce1d72c",
   "metadata": {},
   "outputs": [
    {
     "data": {
      "text/plain": [
       "((1080, 6), (1080, 1))"
      ]
     },
     "execution_count": 33,
     "metadata": {},
     "output_type": "execute_result"
    }
   ],
   "source": [
    "X_train.shape,y_train.shape"
   ]
  },
  {
   "cell_type": "code",
   "execution_count": 34,
   "id": "365d4cc2-a54c-48da-93eb-2f22944d49d6",
   "metadata": {},
   "outputs": [],
   "source": [
    "def train_model_and_plot_graph(NN,layers,loss):\n",
    "    optim = RMSProp(NN.layers,lr=0.004)\n",
    "    losses = train(model=NN,\n",
    "               X=X_train,\n",
    "               y=y_train,\n",
    "               optimizer=optim,\n",
    "               loss=loss,\n",
    "               epochs=3_000,\n",
    "               print_every=np.inf,\n",
    "               batch_size=-1,\n",
    "               return_losses=True,\n",
    "               X_val=X_val,\n",
    "               y_val=y_val)\n",
    "    train_loss = losses[0]\n",
    "    val_loss = losses[1]\n",
    "    train_loss_smoothed = pd.Series(train_loss[100:]).rolling(window=50).mean()\n",
    "    val_loss_smoothed = pd.Series(val_loss[100:]).rolling(window=50).mean()    \n",
    "    fig, ax = plt.subplots(figsize=(4, 4))\n",
    "    sns.lineplot(data=train_loss_smoothed, label='Train Loss (Smoothed)')\n",
    "    sns.lineplot(data=val_loss_smoothed, label='Validation Loss (Smoothed)')\n",
    "    plt.show()\n",
    "    print(\"-------------------------\")\n",
    "    print(\"Validation error : \" , np.sqrt(np.mean((NN.predict(X_val)-y_val)**2)))"
   ]
  },
  {
   "cell_type": "code",
   "execution_count": 35,
   "id": "891a0207-6ef3-4795-af85-8d24d660b809",
   "metadata": {
    "scrolled": true
   },
   "outputs": [
    {
     "data": {
      "image/png": "[encoded data removed]",
      "text/plain": [
       "<Figure size 400x400 with 1 Axes>"
      ]
     },
     "metadata": {},
     "output_type": "display_data"
    },
    {
     "name": "stdout",
     "output_type": "stream",
     "text": [
      "-------------------------\n",
      "Validation error :  0.11700886138355161\n"
     ]
    }
   ],
   "source": [
    "layers = [Linear(6,32), \n",
    "          ReLU(),\n",
    "          Linear(32,16) ,\n",
    "          ReLU(),\n",
    "          Linear(16,16) ,\n",
    "          ReLU(),\n",
    "          Linear(16,1)]\n",
    "NN = NeuralNetwork(layers=layers)\n",
    "loss = MSELoss(NN.layers)\n",
    "train_model_and_plot_graph(NN,layers,loss)"
   ]
  },
  {
   "cell_type": "markdown",
   "id": "e3496eb4-585d-4e88-9527-294d43dbbd7d",
   "metadata": {},
   "source": [
    "<h3>We clearly see in this graph above a case of overfitting</h3>"
   ]
  },
  {
   "cell_type": "code",
   "execution_count": 36,
   "id": "4c5fa03e-9a2a-4e27-9839-95ef4e41e3c3",
   "metadata": {
    "scrolled": true
   },
   "outputs": [
    {
     "data": {
      "image/png": "[encoded data removed]",
      "text/plain": [
       "<Figure size 400x400 with 1 Axes>"
      ]
     },
     "metadata": {},
     "output_type": "display_data"
    },
    {
     "name": "stdout",
     "output_type": "stream",
     "text": [
      "-------------------------\n",
      "Validation error :  0.09188892660843705\n"
     ]
    }
   ],
   "source": [
    "layers = [Linear(6,32), \n",
    "          ReLU(),\n",
    "          Dropout(0.6),\n",
    "          Linear(32,16) ,\n",
    "          ReLU(),\n",
    "          Dropout(0.6),\n",
    "          Linear(16,16) ,\n",
    "          ReLU(),\n",
    "          Linear(16,1)]\n",
    "NN = NeuralNetwork(layers=layers)\n",
    "loss = MSELoss(NN.layers)\n",
    "train_model_and_plot_graph(NN,layers,loss)"
   ]
  },
  {
   "cell_type": "markdown",
   "id": "f3738cd5-ee13-40c2-a3b7-f4b5a8aafd39",
   "metadata": {},
   "source": [
    "<h3>Big improvement from the last model</h3>"
   ]
  },
  {
   "cell_type": "code",
   "execution_count": 37,
   "id": "6e2738c2-8d85-4942-aaca-74133453c5bb",
   "metadata": {},
   "outputs": [
    {
     "data": {
      "image/png": "[encoded data removed]",
      "text/plain": [
       "<Figure size 400x400 with 1 Axes>"
      ]
     },
     "metadata": {},
     "output_type": "display_data"
    },
    {
     "name": "stdout",
     "output_type": "stream",
     "text": [
      "-------------------------\n",
      "Validation error :  0.09443980998025948\n"
     ]
    }
   ],
   "source": [
    "layers = [Linear(6,32), \n",
    "          ReLU(),\n",
    "          Linear(32,16) ,\n",
    "          ReLU(),\n",
    "          Linear(16,16) ,\n",
    "          ReLU(),\n",
    "          Linear(16,1)]\n",
    "NN = NeuralNetwork(layers=layers)\n",
    "loss = MSELoss(NN.layers,L2Regularization(lambd=0.05))\n",
    "train_model_and_plot_graph(NN,layers,loss)"
   ]
  },
  {
   "cell_type": "code",
   "execution_count": 38,
   "id": "b42bea38-8621-4e4d-9134-b80b8fde1675",
   "metadata": {
    "scrolled": true
   },
   "outputs": [
    {
     "data": {
      "image/png": "[encoded data removed]",
      "text/plain": [
       "<Figure size 400x400 with 1 Axes>"
      ]
     },
     "metadata": {},
     "output_type": "display_data"
    },
    {
     "name": "stdout",
     "output_type": "stream",
     "text": [
      "-------------------------\n",
      "Validation error :  0.09513468631143501\n"
     ]
    }
   ],
   "source": [
    "layers = [Linear(6,32), \n",
    "          ReLU(),\n",
    "          Linear(32,16) ,\n",
    "          ReLU(),\n",
    "          Linear(16,16) ,\n",
    "          ReLU(),\n",
    "          Linear(16,1)]\n",
    "NN = NeuralNetwork(layers=layers)\n",
    "loss = MSELoss(NN.layers,L1Regularization(lambd=0.05))\n",
    "train_model_and_plot_graph(NN,layers,loss)"
   ]
  },
  {
   "cell_type": "markdown",
   "id": "54f50ba7-fa5f-4a22-a43a-50d6db4af23c",
   "metadata": {
    "jp-MarkdownHeadingCollapsed": true
   },
   "source": [
    "<h3>Regularization actually solved the overfitting problem, both the L1 and L2 and the Dropout</h3>"
   ]
  },
  {
   "cell_type": "markdown",
   "id": "731c39cd-a818-46c0-886d-824bb3b5ae49",
   "metadata": {},
   "source": [
    "<h2>Comparing to LinearRegression</h2>"
   ]
  },
  {
   "cell_type": "code",
   "execution_count": 39,
   "id": "f0333c2f-01e5-4cbb-8c31-41f4ce1e9fc2",
   "metadata": {},
   "outputs": [],
   "source": [
    "def error(y_true,y_pred):\n",
    "    return np.sqrt(np.mean(np.sum((y_true-y_pred)**2)))"
   ]
  },
  {
   "cell_type": "code",
   "execution_count": 40,
   "id": "720cd520-1859-4c42-a223-94d4a87192f6",
   "metadata": {},
   "outputs": [],
   "source": [
    "from sklearn.linear_model import LinearRegression\n",
    "lr = LinearRegression()\n",
    "lr.fit(X,y.reshape(len(y),))\n",
    "lr_pred = lr.predict(X_val)\n",
    "lr_error = error(lr_pred.flatten(),y_val.flatten())"
   ]
  },
  {
   "cell_type": "code",
   "execution_count": 41,
   "id": "40b9b43d-a5bd-4a49-adbc-40165764928b",
   "metadata": {},
   "outputs": [],
   "source": [
    "layers = [Linear(6,32), \n",
    "          ReLU(),\n",
    "          Linear(32,32) ,\n",
    "          ReLU(),\n",
    "          Linear(32,16) ,\n",
    "          ReLU(),\n",
    "          Linear(16,1)]\n",
    "NN = NeuralNetwork(layers=layers)\n",
    "optim = Adam(NN.layers,lr=0.001)\n",
    "loss = MSELoss(NN.layers,L1Regularization(lambd=0.05))"
   ]
  },
  {
   "cell_type": "code",
   "execution_count": 42,
   "id": "090bbe07-0ff8-446c-897b-9d5a920eb01a",
   "metadata": {
    "scrolled": true
   },
   "outputs": [
    {
     "name": "stdout",
     "output_type": "stream",
     "text": [
      "Epoch: 500 \tTrain Loss: 0.20574\n",
      "Epoch: 1000 \tTrain Loss: 0.15022\n",
      "Epoch: 1500 \tTrain Loss: 0.01961\n",
      "Epoch: 2000 \tTrain Loss: 0.01548\n",
      "Epoch: 2500 \tTrain Loss: 0.01483\n",
      "Epoch: 3000 \tTrain Loss: 0.01376\n",
      "Epoch: 3500 \tTrain Loss: 0.01402\n",
      "Epoch: 4000 \tTrain Loss: 0.01427\n",
      "Epoch: 4500 \tTrain Loss: 0.01463\n",
      "Epoch: 5000 \tTrain Loss: 0.0139\n"
     ]
    }
   ],
   "source": [
    "train(model=NN,\n",
    "               X=X_train,\n",
    "               y=y_train,\n",
    "               optimizer=optim,\n",
    "               loss=loss,\n",
    "               epochs=5_000,\n",
    "               print_every=500,\n",
    "               batch_size=128)"
   ]
  },
  {
   "cell_type": "code",
   "execution_count": 43,
   "id": "7fcf7eab-7703-43b8-bb3f-635f9b186a3a",
   "metadata": {},
   "outputs": [],
   "source": [
    "nn_pred = NN.predict(X_val)\n",
    "nn_error = error(nn_pred.flatten(),y_val.flatten())"
   ]
  },
  {
   "cell_type": "markdown",
   "id": "6fb0e8c9-536a-4cd5-83c2-b21e3d79a7df",
   "metadata": {},
   "source": [
    "<h3>We can see here how the NeuralNetwork with regularization outperformed the LinearRegression</h3>"
   ]
  },
  {
   "cell_type": "code",
   "execution_count": 44,
   "id": "69b3c2ae-a615-42c0-a666-7d297c748afb",
   "metadata": {
    "scrolled": true
   },
   "outputs": [
    {
     "name": "stdout",
     "output_type": "stream",
     "text": [
      "Linear regression error :  1.00124229139492\n",
      "Neural Network error    :  0.9736167371552343\n"
     ]
    }
   ],
   "source": [
    "print(\"Linear regression error : \" , lr_error)\n",
    "print(\"Neural Network error    : \" , nn_error)"
   ]
  },
  {
   "cell_type": "markdown",
   "id": "49b0d6a9-7299-44c1-925c-164b4dd8e3cd",
   "metadata": {},
   "source": [
    "<h3>SimpleOptimizer vs RMSPropOptimizer vs Adam</h3>"
   ]
  },
  {
   "cell_type": "code",
   "execution_count": 45,
   "id": "520c1825-b882-4f76-aeb8-9bcf23b3a738",
   "metadata": {},
   "outputs": [
    {
     "data": {
      "text/plain": [
       "(1080, 6)"
      ]
     },
     "execution_count": 45,
     "metadata": {},
     "output_type": "execute_result"
    }
   ],
   "source": [
    "X_train.shape"
   ]
  },
  {
   "cell_type": "code",
   "execution_count": 46,
   "id": "d80ae411-b801-4e09-adcf-0ba7e94783d2",
   "metadata": {},
   "outputs": [],
   "source": [
    "def train_and_get_losses(optimizer_class):\n",
    "    layers = [Linear(6,32), \n",
    "          ReLU(),\n",
    "          Linear(32,8) ,\n",
    "          ReLU(),\n",
    "          Linear(8,1)]\n",
    "\n",
    "    NN = NeuralNetwork(layers=layers)\n",
    "    optim = optimizer_class(NN.layers,lr=0.001)\n",
    "    loss = MSELoss(NN.layers,regularization=L1Regularization())\n",
    "    losses = train(model=NN,X=X_train,y=y_train,optimizer=optim,loss=loss,epochs=6000,print_every=np.inf,batch_size=-1,return_losses=True)\n",
    "    return losses"
   ]
  },
  {
   "cell_type": "code",
   "execution_count": 47,
   "id": "f0a22bed-dabc-4dd1-b51e-d6286db276d1",
   "metadata": {},
   "outputs": [],
   "source": [
    "simple_losses = train_and_get_losses(SimpleOptimizer)\n",
    "rmsprop_losses = train_and_get_losses(RMSProp)\n",
    "adam_losses = train_and_get_losses(Adam)"
   ]
  },
  {
   "cell_type": "code",
   "execution_count": 48,
   "id": "ef347ed5-703d-42ed-b3fe-f5a37fee0f78",
   "metadata": {},
   "outputs": [],
   "source": [
    "import matplotlib.pyplot as plt\n",
    "import seaborn as sns\n",
    "%matplotlib inline"
   ]
  },
  {
   "cell_type": "code",
   "execution_count": 49,
   "id": "32f269e3-9566-4626-8710-39a22235806f",
   "metadata": {
    "scrolled": true
   },
   "outputs": [
    {
     "data": {
      "image/png": "[encoded data removed]",
      "text/plain": [
       "<Figure size 600x600 with 1 Axes>"
      ]
     },
     "metadata": {},
     "output_type": "display_data"
    }
   ],
   "source": [
    "fig, ax = plt.subplots(figsize=(6, 6))\n",
    "sns.lineplot(simple_losses[150:],label='Simple')\n",
    "sns.lineplot(rmsprop_losses[150:],label='Rmsprop')\n",
    "sns.lineplot(adam_losses[150:],label='Adam')\n",
    "plt.xlabel('Epoch')\n",
    "plt.ylabel('Loss')\n",
    "plt.show()"
   ]
  },
  {
   "cell_type": "markdown",
   "id": "ffa10334-878d-4bbe-ac36-849cd6afd456",
   "metadata": {},
   "source": [
    "<h3>We can see here how using RMSProp or Adam helps to converge faster</h3>"
   ]
  },
  {
   "cell_type": "markdown",
   "id": "8773bf70-1e97-49eb-be38-89c9f49551bb",
   "metadata": {},
   "source": [
    "<h3>Now let's check if BatchNormalization helpes the model to converge faster</h3>"
   ]
  },
  {
   "cell_type": "code",
   "execution_count": 50,
   "id": "2a9a65de-1091-45f4-b39b-a3ad3fb21493",
   "metadata": {},
   "outputs": [],
   "source": [
    "layers = [Linear(6,32), \n",
    "          ReLU(),\n",
    "          Dropout(0.8),\n",
    "          Linear(32,32) ,\n",
    "          Tanh(),\n",
    "          Dropout(0.8),\n",
    "          Linear(32,1)]\n",
    "\n",
    "NN = NeuralNetwork(layers=layers)\n",
    "optim = SimpleOptimizer(NN.layers,lr=0.1)\n",
    "loss = MSELoss(NN.layers)\n",
    "losses,val_losses = train(model=NN,X=X_train,y=y_train,optimizer=optim,loss=loss,epochs=5_000,\n",
    "                          print_every=np.inf,batch_size=-1,return_losses=True,X_val=X_val,y_val=y_val)\n",
    "pred = NN.predict(X_val) "
   ]
  },
  {
   "cell_type": "code",
   "execution_count": 51,
   "id": "8ed95f0c-3411-4268-a6f5-4b216b81f526",
   "metadata": {},
   "outputs": [],
   "source": [
    "layers = [Linear(6,32), \n",
    "          ReLU(),\n",
    "          Dropout(0.8),\n",
    "          Linear(32,32) ,\n",
    "          BatchNormalization(32),\n",
    "          Tanh(),\n",
    "          Dropout(0.8),\n",
    "          Linear(32,1)]\n",
    "\n",
    "NN = NeuralNetwork(layers=layers)\n",
    "optim = SimpleOptimizer(NN.layers,lr=0.1)\n",
    "loss = MSELoss(NN.layers)\n",
    "bn_losses,bn_val_losses = train(model=NN,X=X_train,y=y_train,optimizer=optim,loss=loss,epochs=5_000,\n",
    "                          print_every=np.inf,batch_size=-1,return_losses=True,X_val=X_val,y_val=y_val)\n",
    "batch_norm_pred = NN.predict(X_val) "
   ]
  },
  {
   "cell_type": "markdown",
   "id": "9d795910-042c-4e8b-a965-af538e65d13f",
   "metadata": {},
   "source": [
    "<h3>In the graphs below we can see how the model with BatchNorm converges in less than 200 epochs while the other model only after more or less 600 epochs</h3>"
   ]
  },
  {
   "cell_type": "code",
   "execution_count": 52,
   "id": "e605462f-2310-498d-ba3e-ee7fc0fbd5ff",
   "metadata": {
    "scrolled": true
   },
   "outputs": [
    {
     "data": {
      "image/png": "[encoded data removed]",
      "text/plain": [
       "<Figure size 800x400 with 2 Axes>"
      ]
     },
     "metadata": {},
     "output_type": "display_data"
    }
   ],
   "source": [
    "fig, (ax1, ax2) = plt.subplots(1, 2, figsize=(8, 4))\n",
    "sns.lineplot(np.log(bn_losses[:1000]), label='BatchNorm train loss', ax=ax1)\n",
    "sns.lineplot(np.log(bn_val_losses[:1000]), label='BatchNorm val loss', ax=ax1)\n",
    "ax1.set_xlabel('Epoch')\n",
    "ax1.set_ylabel('Loss')\n",
    "sns.lineplot(np.log(losses[:1000]), label='Regular train loss', ax=ax2)\n",
    "sns.lineplot(np.log(val_losses[:1000]), label='Regular val loss', ax=ax2)\n",
    "ax2.set_xlabel('Epoch')\n",
    "ax2.set_ylabel('Loss')\n",
    "plt.tight_layout()\n",
    "plt.show()"
   ]
  },
  {
   "cell_type": "markdown",
   "id": "caa8b713-b83a-4f86-8dc8-1809fba2acd0",
   "metadata": {},
   "source": [
    "<h4>And achieves good performance (It varies sometimes which model gets better berformance, I guess it has to do with weight initialization or how the batches are randomly split)</h4>"
   ]
  },
  {
   "cell_type": "code",
   "execution_count": 53,
   "id": "7567b13e-b3ed-4f23-92f2-10f16a89fed7",
   "metadata": {},
   "outputs": [
    {
     "name": "stdout",
     "output_type": "stream",
     "text": [
      "1.1011031521819779\n",
      "1.0539265542332512\n"
     ]
    }
   ],
   "source": [
    "error = lambda a,b : np.mean(sum((a-b)**2)) \n",
    "print(error(batch_norm_pred,y_val))\n",
    "print(error(pred,y_val))"
   ]
  },
  {
   "cell_type": "markdown",
   "id": "6642230f-e7b2-4701-a72a-93b871376fce",
   "metadata": {},
   "source": [
    "<h3>Testing performance in multi-class classification problem</h3>"
   ]
  },
  {
   "cell_type": "code",
   "execution_count": 54,
   "id": "c5ad71f4-e271-4137-8337-fd27d35820a2",
   "metadata": {},
   "outputs": [],
   "source": [
    "from sklearn.datasets import load_digits\n",
    "data = load_digits()\n",
    "X = data['data']\n",
    "y = data['target']"
   ]
  },
  {
   "cell_type": "markdown",
   "id": "87cb5bf7-d6e9-4b1a-b508-79d34e09c539",
   "metadata": {},
   "source": [
    "<h4>Converting y to one hot and scaling the images</h4>"
   ]
  },
  {
   "cell_type": "code",
   "execution_count": 55,
   "id": "9833caba-39da-40c1-9dd1-58252575e42e",
   "metadata": {},
   "outputs": [],
   "source": [
    "one_hot_y = np.zeros((len(y),10))\n",
    "for i in range(len(y)):\n",
    "    one_hot_y[i][y[i]] = 1\n",
    "X = X/X.max()"
   ]
  },
  {
   "cell_type": "code",
   "execution_count": 56,
   "id": "39eb9091-e21e-4637-a6dd-05da419f1626",
   "metadata": {},
   "outputs": [],
   "source": [
    "train_size = int(len(X)*0.85)\n",
    "X_train,X_val = X[:train_size],X[train_size:]\n",
    "y_train,y_val = y[:train_size],y[train_size:]\n",
    "one_hot_y_train,one_hot_y_val = one_hot_y[:train_size],one_hot_y[train_size:]"
   ]
  },
  {
   "cell_type": "code",
   "execution_count": 57,
   "id": "b5cf4581-0990-46fb-8e38-9cb2846eb8cf",
   "metadata": {},
   "outputs": [
    {
     "data": {
      "text/plain": [
       "((1527, 64), (1527,), (1527, 10))"
      ]
     },
     "execution_count": 57,
     "metadata": {},
     "output_type": "execute_result"
    }
   ],
   "source": [
    "X_train.shape,y_train.shape,one_hot_y_train.shape"
   ]
  },
  {
   "cell_type": "markdown",
   "id": "7c86f923-b67a-4275-9f83-cdb41282148d",
   "metadata": {},
   "source": [
    "<h3>Testing LogisticRegression</h3>"
   ]
  },
  {
   "cell_type": "code",
   "execution_count": 58,
   "id": "606a4413-1c10-4ce0-b490-578d261ca8fe",
   "metadata": {},
   "outputs": [],
   "source": [
    "from sklearn.linear_model import LogisticRegression\n",
    "from sklearn.metrics import accuracy_score\n",
    "lr = LogisticRegression()\n",
    "lr.fit(X_train,y_train)\n",
    "lr_pred = lr.predict(X_val)"
   ]
  },
  {
   "cell_type": "code",
   "execution_count": 59,
   "id": "ede83dbf-6923-4462-8596-a28c12b9ee92",
   "metadata": {},
   "outputs": [
    {
     "data": {
      "text/plain": [
       "(1527, 64)"
      ]
     },
     "execution_count": 59,
     "metadata": {},
     "output_type": "execute_result"
    }
   ],
   "source": [
    "X_train.shape"
   ]
  },
  {
   "cell_type": "code",
   "execution_count": 60,
   "id": "d25d7da0-fcbd-44b3-b3fa-c06278d61a78",
   "metadata": {},
   "outputs": [],
   "source": [
    "layers = [Linear(64,128), \n",
    "          ReLU(),\n",
    "          Dropout(0.8),\n",
    "          Linear(128,64) ,\n",
    "          ReLU(),\n",
    "          Dropout(0.8),\n",
    "          Linear(64,64),\n",
    "          ReLU(),\n",
    "          Dropout(0.8),\n",
    "          Linear(64,10)]\n",
    "NN = NeuralNetwork(layers=layers)\n",
    "optim = RMSProp(NN.layers,lr=0.001)\n",
    "loss = CELoss(NN.layers,apply_softmax=True)"
   ]
  },
  {
   "cell_type": "code",
   "execution_count": 61,
   "id": "0bab355e-bc43-4ad4-b3f8-edcc31f70130",
   "metadata": {},
   "outputs": [
    {
     "name": "stdout",
     "output_type": "stream",
     "text": [
      "Epoch: 100 \tTrain Loss: 0.00544\n",
      "Epoch: 200 \tTrain Loss: 0.00082\n",
      "Epoch: 300 \tTrain Loss: 0.00016\n",
      "Epoch: 400 \tTrain Loss: 0.00782\n",
      "Epoch: 500 \tTrain Loss: 0.00287\n",
      "Epoch: 600 \tTrain Loss: 0.01058\n",
      "Epoch: 700 \tTrain Loss: 0.00013\n",
      "Epoch: 800 \tTrain Loss: 0.00016\n",
      "Epoch: 900 \tTrain Loss: 0.0\n",
      "Epoch: 1000 \tTrain Loss: 0.00015\n"
     ]
    }
   ],
   "source": [
    "train(model=NN,\n",
    "               X=X_train,\n",
    "               y=one_hot_y_train,\n",
    "               optimizer=optim,\n",
    "               loss=loss,\n",
    "               epochs=1000,\n",
    "               print_every=100,\n",
    "               batch_size=128)"
   ]
  },
  {
   "cell_type": "code",
   "execution_count": 62,
   "id": "6b2c2dab-27ac-4083-ba1a-5322a926dcea",
   "metadata": {},
   "outputs": [],
   "source": [
    "nn_pred = NN.predict(X_val)\n",
    "nn_pred = nn_pred.argmax(axis=1)"
   ]
  },
  {
   "cell_type": "markdown",
   "id": "096b86df-4806-4342-8169-ece4a4749553",
   "metadata": {},
   "source": [
    "<h4>We see better results from the NN</h4>"
   ]
  },
  {
   "cell_type": "code",
   "execution_count": 63,
   "id": "91d0469a-0a38-4db5-bfbd-bbdddabfdd22",
   "metadata": {
    "scrolled": true
   },
   "outputs": [
    {
     "name": "stdout",
     "output_type": "stream",
     "text": [
      "Neural Network accuracy score      :  0.9296296296296296\n",
      "Logistic Regression accuracy score :  0.9\n"
     ]
    }
   ],
   "source": [
    "print(\"Neural Network accuracy score      : \" , accuracy_score(nn_pred,y_val))\n",
    "print(\"Logistic Regression accuracy score : \" , accuracy_score(lr_pred,y_val))"
   ]
  },
  {
   "cell_type": "markdown",
   "id": "1ce44c21-a64e-472c-bec6-73029d3dbaf3",
   "metadata": {},
   "source": [
    "<h3>Comparing using Sigmoid in last layer vs Softmax</h3>"
   ]
  },
  {
   "cell_type": "code",
   "execution_count": 64,
   "id": "7a5be1fc-e204-490d-91c2-0b8440880e67",
   "metadata": {},
   "outputs": [],
   "source": [
    "layers = [Linear(64,128), \n",
    "          ReLU(),\n",
    "          Dropout(0.8),\n",
    "          Linear(128,64) ,\n",
    "          ReLU(),\n",
    "          Linear(64,10),\n",
    "         Sigmoid()]\n",
    "NN = NeuralNetwork(layers=layers)\n",
    "optim = RMSProp(NN.layers,lr=0.001)\n",
    "loss = CELoss(NN.layers,apply_softmax=False)"
   ]
  },
  {
   "cell_type": "code",
   "execution_count": 65,
   "id": "74de173a-e4ee-46ce-94e2-311a7e859519",
   "metadata": {},
   "outputs": [
    {
     "name": "stdout",
     "output_type": "stream",
     "text": [
      "Epoch: 200 \tTrain Loss: 0.00035\n",
      "Epoch: 400 \tTrain Loss: 2e-05\n",
      "Epoch: 600 \tTrain Loss: 2e-05\n",
      "Epoch: 800 \tTrain Loss: 0.0\n",
      "Epoch: 1000 \tTrain Loss: 1e-05\n"
     ]
    }
   ],
   "source": [
    "sigmoid_losses = train(model=NN,\n",
    "               X=X_train,\n",
    "               y=one_hot_y_train,\n",
    "               optimizer=optim,\n",
    "               loss=loss,\n",
    "               epochs=1000,\n",
    "               print_every=200,\n",
    "               batch_size=128,\n",
    "             return_losses=True)"
   ]
  },
  {
   "cell_type": "code",
   "execution_count": 66,
   "id": "d753e33e-5f3a-4b56-b80c-94a2d9b0eec4",
   "metadata": {},
   "outputs": [],
   "source": [
    "sigmoid_pred = NN.predict(X_val)\n",
    "sigmoid_error = error(nn_pred.flatten(),y_val.flatten())"
   ]
  },
  {
   "cell_type": "code",
   "execution_count": 67,
   "id": "3eb08041-0bef-4c8b-967a-ae0d8abdb36a",
   "metadata": {},
   "outputs": [],
   "source": [
    "layers = [Linear(64,128), \n",
    "          ReLU(),\n",
    "          Dropout(0.8),\n",
    "          Linear(128,64) ,\n",
    "          ReLU(),\n",
    "          Linear(64,10)]\n",
    "NN = NeuralNetwork(layers=layers)\n",
    "optim = RMSProp(NN.layers,lr=0.001)\n",
    "loss = CELoss(NN.layers,apply_softmax=True)"
   ]
  },
  {
   "cell_type": "code",
   "execution_count": 68,
   "id": "e67b862e-3fe4-42af-bac4-1e5e63d0067b",
   "metadata": {},
   "outputs": [
    {
     "name": "stdout",
     "output_type": "stream",
     "text": [
      "Epoch: 200 \tTrain Loss: 0.00025\n",
      "Epoch: 400 \tTrain Loss: 0.00015\n",
      "Epoch: 600 \tTrain Loss: 7e-05\n",
      "Epoch: 800 \tTrain Loss: 6e-05\n",
      "Epoch: 1000 \tTrain Loss: 0.00018\n"
     ]
    }
   ],
   "source": [
    "softmax_losses = train(model=NN,\n",
    "               X=X_train,\n",
    "               y=one_hot_y_train,\n",
    "               optimizer=optim,\n",
    "               loss=loss,\n",
    "               epochs=1000,\n",
    "               print_every=200,\n",
    "               batch_size=128,\n",
    "             return_losses=True)"
   ]
  },
  {
   "cell_type": "code",
   "execution_count": 69,
   "id": "94f0e55b-4f8f-4850-86b6-35f57916b805",
   "metadata": {},
   "outputs": [],
   "source": [
    "softmax_pred = NN.predict(X_val)\n",
    "softmax_error = error(nn_pred.flatten(),y_val.flatten())"
   ]
  },
  {
   "cell_type": "code",
   "execution_count": 70,
   "id": "8a249d87-85bc-4618-9672-6d2be9cb6657",
   "metadata": {},
   "outputs": [],
   "source": [
    "sigmoid_pred = sigmoid_pred.argmax(axis=1)\n",
    "softmax_pred = softmax_pred.argmax(axis=1)"
   ]
  },
  {
   "cell_type": "markdown",
   "id": "f164d5dc-72e2-4a60-a0ce-3e02b43fd50e",
   "metadata": {},
   "source": [
    "<h4>Both got a similar accuracy score and using Softmax got higher accuracy in almost every iteration that I compared them</h4>"
   ]
  },
  {
   "cell_type": "code",
   "execution_count": 71,
   "id": "9f9024c9-096c-4c0f-976a-bba6d9031eb2",
   "metadata": {},
   "outputs": [
    {
     "name": "stdout",
     "output_type": "stream",
     "text": [
      "Sigmoid accuracy score      :  0.9333333333333333\n",
      "Softmax accuracy score      :  0.937037037037037\n"
     ]
    }
   ],
   "source": [
    "print(\"Sigmoid accuracy score      : \" , accuracy_score(sigmoid_pred,y_val))\n",
    "print(\"Softmax accuracy score      : \" , accuracy_score(softmax_pred,y_val))"
   ]
  }
 ],
 "metadata": {
  "kernelspec": {
   "display_name": "Python 3 (ipykernel)",
   "language": "python",
   "name": "python3"
  },
  "language_info": {
   "codemirror_mode": {
    "name": "ipython",
    "version": 3
   },
   "file_extension": ".py",
   "mimetype": "text/x-python",
   "name": "python",
   "nbconvert_exporter": "python",
   "pygments_lexer": "ipython3",
   "version": "3.12.4"
  }
 },
 "nbformat": 4,
 "nbformat_minor": 5
}
