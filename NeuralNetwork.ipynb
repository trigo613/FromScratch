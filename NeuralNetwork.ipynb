{
 "cells": [
  {
   "cell_type": "code",
   "execution_count": 1,
   "id": "e44beaaf-133c-46f6-8527-ffbc59d75058",
   "metadata": {},
   "outputs": [],
   "source": [
    "import numpy as np"
   ]
  },
  {
   "cell_type": "code",
   "execution_count": 2,
   "id": "04e66841-6d80-4a20-8de2-85c169de3f57",
   "metadata": {},
   "outputs": [],
   "source": [
    "class Layer:\n",
    "    def __init__(self):\n",
    "        self.input_data = None \n",
    "        self.output_data = None\n",
    "        self.is_parameterized = False\n",
    "    def forward(self,X):\n",
    "        pass\n",
    "\n",
    "    def predict(self,X):\n",
    "        return self.forward(X)\n",
    "    \n",
    "    def compute_gradient(self,output_error):\n",
    "        pass\n",
    "    def apply_gradient(self,learning_rate,gradients=[]):\n",
    "        pass\n",
    "    def get_gradients(self):\n",
    "        return []\n",
    "\n",
    "    def backward(self,output_error):\n",
    "        pass\n",
    "        \n",
    "    def get_regularization_weights(self):\n",
    "        return []\n",
    "\n",
    "    def get_regularization_gradients(self):\n",
    "        return []"
   ]
  },
  {
   "cell_type": "code",
   "execution_count": 3,
   "id": "7c0044e7-1656-4818-91df-7c040a01416b",
   "metadata": {},
   "outputs": [],
   "source": [
    "class Activation(Layer):\n",
    "    def __init__(self):\n",
    "        super().__init__()\n",
    "        \n",
    "    def activation(self, X):\n",
    "        raise NotImplementedError(\"Function must be implemented in subclass\")\n",
    "\n",
    "    def d_activation(self, X):\n",
    "        raise NotImplementedError(\"Function must be implemented in subclass\")\n",
    "\n",
    "    def apply_gradient(self,learning_rate,gradients=[]):\n",
    "        pass\n",
    "\n",
    "    def forward(self, X):\n",
    "        self.input_data = X\n",
    "        self.output_data = self.activation(X)  # This should correctly update output_data in child class\n",
    "        return self.output_data\n",
    "\n",
    "    def backward(self,output_error):\n",
    "        return self.d_activation(self.input_data) * output_error\n",
    "\n",
    "    def compute_gradient(self, output_error):\n",
    "        input_error = self.d_activation(self.input_data) * output_error\n",
    "        return {'input_error': input_error, 'gradients': []}"
   ]
  },
  {
   "cell_type": "code",
   "execution_count": 4,
   "id": "1d336832-f933-47c6-a906-a8c1523bd849",
   "metadata": {
    "jupyter": {
     "source_hidden": true
    }
   },
   "outputs": [],
   "source": [
    "class Linear(Layer):\n",
    "    def __init__(self,input_size,output_size,weight_initialization='he'):\n",
    "        super().__init__()\n",
    "\n",
    "        self.input_size = input_size\n",
    "        self.output_size = output_size\n",
    "\n",
    "        self.initialize_weights(weight_initialization)\n",
    "        \n",
    "        self.dW = np.ones(shape=(self.input_size,self.output_size))\n",
    "        self.db = np.ones(shape=(1,self.output_size))\n",
    "\n",
    "        self.is_parameterized = True\n",
    "\n",
    "    def initialize_weights(self,init):\n",
    "        if init == 'random':\n",
    "            self.W = np.random.uniform(size=(self.input_size,self.output_size))-0.5\n",
    "        elif init == 'xavier': #Good for tanh\n",
    "            self.W = np.random.randn(self.input_size, self.output_size) * np.sqrt(1 / self.input_size)\n",
    "        elif init == 'xavierV2': #Good for tanh\n",
    "            self.W = np.random.randn(self.input_size, self.output_size) * np.sqrt(2 / (self.input_size+self.output_size))\n",
    "        elif init == 'he': #Good for relu\n",
    "            self.W = np.random.randn(self.input_size, self.output_size) * np.sqrt(2 / self.input_size)\n",
    "        self.b = np.zeros((1,self.output_size))\n",
    "\n",
    "\n",
    "\n",
    "    def forward(self,X):\n",
    "        self.input_data = X\n",
    "        self.output_data = np.dot(X,self.W) + self.b\n",
    "        return self.output_data\n",
    "\n",
    "    def get_gradients(self):\n",
    "        return [self.dW,self.db]\n",
    "\n",
    "    def compute_gradient(self,output_error):\n",
    "        self.dW = np.dot(self.input_data.transpose(),output_error)\n",
    "        self.db = np.sum(output_error,axis=0).reshape(1,self.output_data.shape[1])\n",
    "        input_error = np.dot(output_error,self.W.transpose()) \n",
    "        return {\"input_error\" : input_error, \"gradients\" : [self.dW,self.db]}\n",
    "\n",
    "    def backward(self,output_error):\n",
    "        self.dW = np.dot(self.input_data.transpose(),output_error)\n",
    "        self.db = np.sum(output_error,axis=0).reshape(1,self.output_data.shape[1])\n",
    "        return np.dot(output_error,self.W.transpose()) \n",
    "\n",
    "    def get_regularization_weights(self):\n",
    "        return [self.W]\n",
    "\n",
    "    def get_regularization_gradients(self):\n",
    "        return [self.dW]\n",
    "\n",
    "    def apply_gradient(self,learning_rate,gradients):\n",
    "        dW = gradients[0]\n",
    "        db = gradients[1]\n",
    "        self.W = self.W - (learning_rate*dW)\n",
    "        self.b = self.b - (learning_rate*db)"
   ]
  },
  {
   "cell_type": "code",
   "execution_count": 5,
   "id": "7d634d1e-467d-4b50-99a2-6e9c6b38c014",
   "metadata": {
    "jupyter": {
     "source_hidden": true
    }
   },
   "outputs": [],
   "source": [
    "class Dropout(Layer):\n",
    "    def __init__(self,keep_probability=0.5):\n",
    "        super().__init__()\n",
    "        self.keep_probability = keep_probability\n",
    "        self.D = None\n",
    "\n",
    "    def forward(self,X):\n",
    "        self.D = np.random.uniform(size=X.shape) < self.keep_probability\n",
    "        out = (X*self.D)/self.keep_probability\n",
    "        return out\n",
    "\n",
    "    def backward(self,output_error):\n",
    "        return self.D*output_error\n",
    "        \n",
    "        \n",
    "    def compute_gradient(self,output_error):\n",
    "        input_error = self.D * output_error\n",
    "        return {'input_error': input_error, 'gradients': []}\n",
    "\n",
    "    def predict(self,X):\n",
    "        return X"
   ]
  },
  {
   "cell_type": "code",
   "execution_count": 6,
   "id": "f5441d62-3e28-417e-b0a1-7c0eb8295548",
   "metadata": {
    "jupyter": {
     "source_hidden": true
    }
   },
   "outputs": [],
   "source": [
    "class ReLU(Activation):\n",
    "    def __init__(self):\n",
    "        super().__init__()\n",
    "        \n",
    "    def activation(self,X):\n",
    "        return X*(X>0)\n",
    "\n",
    "    def d_activation(self,X):\n",
    "        return (X>0).astype(int)"
   ]
  },
  {
   "cell_type": "code",
   "execution_count": 7,
   "id": "375adf27-392d-499a-8ea6-4c49b6fbc6f7",
   "metadata": {
    "jupyter": {
     "source_hidden": true
    }
   },
   "outputs": [],
   "source": [
    "class Sigmoid(Activation):        \n",
    "    def __init__(self):\n",
    "        super().__init__()\n",
    "        \n",
    "    def activation(self, X):\n",
    "        return 1 / (1 + np.exp(-X))\n",
    "\n",
    "    def d_activation(self, X):\n",
    "        s = self.output_data\n",
    "        return s * (1 - s)"
   ]
  },
  {
   "cell_type": "code",
   "execution_count": 8,
   "id": "5617fda2-1b97-477e-a5aa-d9700333dd85",
   "metadata": {
    "jupyter": {
     "source_hidden": true
    }
   },
   "outputs": [],
   "source": [
    "class Tanh(Activation):\n",
    "    def __init__(self):\n",
    "        super().__init__()\n",
    "        \n",
    "    def activation(self,X):\n",
    "        return np.tanh(X)\n",
    "        \n",
    "    def d_activation(self,X):\n",
    "        t = self.output_data\n",
    "        return  1. -(t**2)"
   ]
  },
  {
   "cell_type": "code",
   "execution_count": 9,
   "id": "9ad3fede-9e64-4fb3-8b5a-22bf7f7d80bb",
   "metadata": {
    "jupyter": {
     "source_hidden": true
    }
   },
   "outputs": [],
   "source": [
    "class NeuralNetwork:\n",
    "    def __init__(self,layers):\n",
    "        self.layers = layers\n",
    "\n",
    "    def forward(self,X):\n",
    "        output = X\n",
    "        for layer in self.layers:\n",
    "            output = layer.forward(output)\n",
    "        return output\n",
    "\n",
    "    def predict(self,X):\n",
    "        output = X\n",
    "        for layer in self.layers:\n",
    "            output = layer.predict(output)\n",
    "        return output"
   ]
  },
  {
   "cell_type": "code",
   "execution_count": 10,
   "id": "a642ca84-f40e-4c65-8427-d3299df5e289",
   "metadata": {},
   "outputs": [],
   "source": [
    "class Regularization:\n",
    "    def __init__(self,lambd = 0.01):\n",
    "        self.lambd = lambd\n",
    "    def get_weight_penalty(self,W,n):\n",
    "        raise NotImplementedError(\"Function must be implemented in subclass\")\n",
    "    def get_weight_gradient(self,W,n):\n",
    "        raise NotImplementedError(\"Function must be implemented in subclass\")"
   ]
  },
  {
   "cell_type": "code",
   "execution_count": 11,
   "id": "6e38220e-eec9-4529-8bd4-9c11e956fc6a",
   "metadata": {},
   "outputs": [],
   "source": [
    "class ZeroRegularization(Regularization):\n",
    "    def __init__(self,lambd = 0.01):\n",
    "        super().__init__(lambd)\n",
    "    def get_weight_penalty(self,W,n):\n",
    "        return 0\n",
    "    def get_weight_gradient(self,W,n):\n",
    "        return np.zeros_like(W)"
   ]
  },
  {
   "cell_type": "code",
   "execution_count": 12,
   "id": "4cfaeef4-93d4-4cc8-b55a-62f4dcd82b26",
   "metadata": {},
   "outputs": [],
   "source": [
    "class L2Regularization(Regularization):\n",
    "    def __init__(self,lambd = 0.01):\n",
    "        super().__init__(lambd)\n",
    "    def get_weight_penalty(self,W,n):\n",
    "        return (self.lambd/(2*n))*np.sum(W**2)\n",
    "    def get_weight_gradient(self,W,n):\n",
    "        return (self.lambd/n)*W"
   ]
  },
  {
   "cell_type": "code",
   "execution_count": 13,
   "id": "a7b2188e-87cd-4f6a-ad7a-e9c0aa6309a2",
   "metadata": {},
   "outputs": [],
   "source": [
    "class L1Regularization(Regularization):\n",
    "    def __init__(self,lambd = 0.01):\n",
    "        super().__init__(lambd)\n",
    "    def get_weight_penalty(self,W,n):\n",
    "        return  (self.lambd/n)*np.sum(np.abs(W))\n",
    "    def get_weight_gradient(self,W,n):\n",
    "        return (self.lambd/n)*((W>0).astype(int) - 0.5)*2"
   ]
  },
  {
   "cell_type": "code",
   "execution_count": 14,
   "id": "0d7f9c10-b401-4801-ad0a-a96632409521",
   "metadata": {
    "jupyter": {
     "source_hidden": true
    }
   },
   "outputs": [],
   "source": [
    "class Loss:\n",
    "    def __init__(self,layers = None,regularization=ZeroRegularization()):\n",
    "        self.layers = layers\n",
    "        self.parameterized_layers = [l for l in layers if l.is_parameterized]\n",
    "        self.regularization = regularization\n",
    "        self.error = 0\n",
    "        self.y_true = 0\n",
    "        self.y_pred = 0\n",
    "\n",
    "    def backwards(self):\n",
    "        output_error = self.compute_gradient(self.y_true,self.y_pred)\n",
    "        for i in range(len(self.layers)-1,-1,-1):\n",
    "            layer = self.layers[i]\n",
    "            output_error = layer.backward(output_error)\n",
    "            \n",
    "            layer_regularization_weights = layer.get_regularization_weights()\n",
    "            layer_gradients = layer.get_regularization_gradients()\n",
    "            for i in range(len(layer_regularization_weights)):\n",
    "                layer_gradients[i] += self.regularization.get_weight_gradient(layer_regularization_weights[i],len(self.y_true))\n",
    "    \n",
    "    def compute_gradient(self,y_true,y_pred):\n",
    "        pass\n",
    "    \n",
    "    def compute_loss(self,y_true,y_pred):\n",
    "        pass\n",
    "        \n",
    "    def loss(self,y_true,y_pred):\n",
    "        self.y_true = y_true\n",
    "        self.y_pred = y_pred\n",
    "        self.error = self.compute_loss(y_true,y_pred) \n",
    "        penalty = 0\n",
    "        for layer in self.parameterized_layers:\n",
    "            for weight in layer.get_regularization_weights():\n",
    "                penalty += self.regularization.get_weight_penalty(weight,len(self.y_true))\n",
    "        return self.error + penalty"
   ]
  },
  {
   "cell_type": "code",
   "execution_count": 15,
   "id": "b08a099c-002c-4b30-94ee-39d23d97aa74",
   "metadata": {
    "jupyter": {
     "source_hidden": true
    }
   },
   "outputs": [],
   "source": [
    "class MSELoss(Loss):\n",
    "    def __init__(self,layers = None,regularization=ZeroRegularization()):\n",
    "        super().__init__(layers,regularization)\n",
    "    def mse(self,y_true,y_pred):\n",
    "        out = y_pred - y_true\n",
    "        out = out**2\n",
    "        return np.mean(out)\n",
    "    def compute_gradient(self,y_true,y_pred):\n",
    "        out = (2/len(y_true))*(y_pred-y_true)\n",
    "        return out\n",
    "    def compute_loss(self,y_true,y_pred):\n",
    "        return self.mse(y_true,y_pred)"
   ]
  },
  {
   "cell_type": "code",
   "execution_count": 16,
   "id": "3e5d46aa-1103-48d5-8e95-3e1534f2b628",
   "metadata": {
    "jupyter": {
     "source_hidden": true
    }
   },
   "outputs": [],
   "source": [
    "class CELoss(Loss):\n",
    "    def __init__(self,layers = None,regularization=ZeroRegularization(),epsilon=1e-15):\n",
    "        super().__init__(layers,regularization)\n",
    "        self.epsilon = epsilon\n",
    "\n",
    "    def _clip_probabilities(self, y_pred):\n",
    "        return np.clip(y_pred, self.epsilon, 1 - self.epsilon)\n",
    "\n",
    "    def compute_loss(self, y_true, y_pred):\n",
    "        y_pred = self._clip_probabilities(y_pred)\n",
    "        return -np.mean(y_true * np.log(y_pred) + (1 - y_true) * np.log(1 - y_pred))\n",
    "\n",
    "    def compute_gradient(self, y_true, y_pred):\n",
    "        y_pred = self._clip_probabilities(y_pred)\n",
    "        return (y_pred - y_true) / (y_pred * (1 - y_pred))"
   ]
  },
  {
   "cell_type": "code",
   "execution_count": 17,
   "id": "fd230753-80b3-4543-92bc-f1116ea4ec6e",
   "metadata": {},
   "outputs": [],
   "source": [
    "class Optimizer:\n",
    "    def __init__(self,layers,lr=0.01):\n",
    "        self.lr = lr\n",
    "        self.layers = [l for l in layers if l.is_parameterized]\n",
    "        self.final_gradients = {i:self.layers[i].get_gradients() for i in range(len(self.layers))}\n",
    "\n",
    "    def calculate_final_gradients(self):\n",
    "        raise NotImplementedError(\"Function must be implemented in subclass\")\n",
    "\n",
    "    def step(self):\n",
    "        self.calculate_final_gradients()\n",
    "        for i in range(0,len(self.layers)):\n",
    "            self.layers[i].apply_gradient(self.lr,self.final_gradients[i])"
   ]
  },
  {
   "cell_type": "code",
   "execution_count": 18,
   "id": "a6f00722-ef8d-400f-a45d-e83a6b78ce51",
   "metadata": {},
   "outputs": [],
   "source": [
    "class SimpleOptimizer(Optimizer):\n",
    "    def __init__(self,layers,lr=0.01):\n",
    "        super().__init__(layers,lr)\n",
    "\n",
    "    def calculate_final_gradients(self):\n",
    "        for i in range(len(self.layers)-1,-1,-1):\n",
    "            self.final_gradients[i] = self.layers[i].get_gradients()"
   ]
  },
  {
   "cell_type": "code",
   "execution_count": 19,
   "id": "65c52d9c-84f8-4b79-956f-63cb2da0ae7e",
   "metadata": {},
   "outputs": [],
   "source": [
    "class RMSProp(Optimizer):\n",
    "    def __init__(self,layers,lr=0.01,beta=0.9):\n",
    "        super().__init__(layers,lr)\n",
    "        self.beta = beta\n",
    "        self.epsilon = 1e-8\n",
    "        self.S_gradients = {i:self.layers[i].get_gradients() for i in range(len(self.layers))}\n",
    "        \n",
    "    def calculate_final_gradients(self):\n",
    "        for i in range(len(self.layers)-1,-1,-1):\n",
    "            gradients = self.layers[i].get_gradients()\n",
    "            for j in range(len(gradients)):\n",
    "                self.S_gradients[i][j] = self.beta*self.S_gradients[i][j] + (1-self.beta)*(gradients[j]**2)\n",
    "                self.final_gradients[i][j] = gradients[j]/((np.sqrt(self.S_gradients[i][j])) + self.epsilon)"
   ]
  },
  {
   "cell_type": "code",
   "execution_count": 20,
   "id": "b430ab84-d71a-4418-a8f8-0ccb14d2f6c0",
   "metadata": {},
   "outputs": [],
   "source": [
    "class Adam(Optimizer):\n",
    "    def __init__(self,layers,lr=0.01,beta_s=0.99,beta_v=0.9):\n",
    "        super().__init__(layers,lr)\n",
    "        \n",
    "        self.beta_s = beta_s\n",
    "        self.beta_v = beta_v\n",
    "        \n",
    "        self.t = 0\n",
    "        \n",
    "        self.epsilon = 1e-8\n",
    "        \n",
    "        self.S_gradients = {i:self.layers[i].get_gradients() for i in range(len(self.layers))}\n",
    "        self.V_gradients = {i:self.layers[i].get_gradients() for i in range(len(self.layers))}\n",
    "\n",
    "        \n",
    "    def calculate_final_gradients(self):\n",
    "        self.t+=1\n",
    "        for i in range(len(self.layers)-1,-1,-1):\n",
    "            gradients = self.layers[i].get_gradients()\n",
    "            for j in range(len(gradients)):\n",
    "                \n",
    "                self.S_gradients[i][j] = (self.beta_s*self.S_gradients[i][j]) + ((1-self.beta_s)*(gradients[j]**2))\n",
    "                corrected_s = self.S_gradients[i][j]/(1-(self.beta_s**self.t))\n",
    "\n",
    "                self.V_gradients[i][j] = (self.beta_v*self.V_gradients[i][j]) + ((1-self.beta_v)*gradients[j])\n",
    "                corrected_v = self.V_gradients[i][j]/(1-(self.beta_v**self.t))\n",
    "\n",
    "                self.final_gradients[i][j] = corrected_v/(np.sqrt(corrected_s) + self.epsilon)\n",
    "        "
   ]
  },
  {
   "cell_type": "markdown",
   "id": "d47ddbe0-fed8-4829-b14b-a8f3de65848d",
   "metadata": {},
   "source": [
    "<h3>Solving the Xor problem</h3>"
   ]
  },
  {
   "cell_type": "code",
   "execution_count": 21,
   "id": "e8f76337-ec22-41f9-aafd-255011d42172",
   "metadata": {},
   "outputs": [],
   "source": [
    "X = np.array([[0,0],[1,1],[0,1],[1,0]])\n",
    "y = np.array([0,0,1,1]).reshape(4,1)"
   ]
  },
  {
   "cell_type": "markdown",
   "id": "dba4d8d9-2ed0-4cf3-b699-0a6147f3237c",
   "metadata": {},
   "source": [
    "<h4>Here we can see how Logistic Regression fails to solve the Xor Problem</h4>"
   ]
  },
  {
   "cell_type": "code",
   "execution_count": 22,
   "id": "2dd9cc91-b666-40ff-bbb9-47c03af1a496",
   "metadata": {},
   "outputs": [
    {
     "name": "stdout",
     "output_type": "stream",
     "text": [
      "[0 0 0 0]\n"
     ]
    }
   ],
   "source": [
    "from sklearn.linear_model import LogisticRegression\n",
    "lr = LogisticRegression()\n",
    "lr.fit(X,y.reshape(4,))\n",
    "lr_pred = lr.predict(X)\n",
    "print(lr_pred)"
   ]
  },
  {
   "cell_type": "markdown",
   "id": "8aec9415-83d7-4004-9ec9-324eca30c6fa",
   "metadata": {},
   "source": [
    "<h4>Now let's check our Neural Network</h4>"
   ]
  },
  {
   "cell_type": "code",
   "execution_count": 23,
   "id": "ad50f2b4-bad4-4566-bf37-d094fed45d88",
   "metadata": {},
   "outputs": [],
   "source": [
    "def train(model, X, y, optimizer, loss, epochs, print_every, batch_size=-1, return_losses=False, X_val=None, y_val=None):\n",
    "    train_losses = [] \n",
    "    val_losses = [] \n",
    "    n = len(X)\n",
    "    if batch_size == -1 or batch_size > n:\n",
    "        batch_size = n\n",
    "    num_batches = (n // batch_size)\n",
    "    for e in range(epochs):\n",
    "        epoch_loss = 0\n",
    "        indices = np.arange(n)\n",
    "        np.random.shuffle(indices)\n",
    "        X_shuffled = X[indices].astype(float)\n",
    "        y_shuffled = y[indices].astype(float)\n",
    "\n",
    "        for i in range(0, n, batch_size):\n",
    "            X_batch = X_shuffled[i:i + batch_size]\n",
    "            y_batch = y_shuffled[i:i + batch_size]\n",
    "\n",
    "            output = model.forward(X_batch)\n",
    "            error = loss.loss(y_batch, output)\n",
    "            epoch_loss += error\n",
    "\n",
    "            loss.backwards()\n",
    "            optimizer.step()\n",
    "\n",
    "        epoch_loss = epoch_loss/(num_batches)\n",
    "        train_losses.append(epoch_loss)\n",
    "\n",
    "        if X_val is not None and y_val is not None:\n",
    "            val_output = model.predict(X_val)\n",
    "            val_error = loss.loss(y_val, val_output)\n",
    "            val_losses.append(val_error)\n",
    "            if (e+1) % print_every == 0:\n",
    "                print(\"Epoch:\", e+1, \"\\tTrain Loss:\", np.round(epoch_loss, 5), \"\\tValidation Loss:\", np.round(val_error, 5))\n",
    "        else:\n",
    "            if (e+1) % print_every == 0:\n",
    "                print(\"Epoch:\", e+1, \"\\tTrain Loss:\", np.round(epoch_loss, 5))\n",
    "\n",
    "    if return_losses:\n",
    "        if X_val is not None and y_val is not None:\n",
    "            return train_losses,val_losses\n",
    "        else:\n",
    "            return train_losses"
   ]
  },
  {
   "cell_type": "code",
   "execution_count": 24,
   "id": "aba8c8f5-e8a2-4f76-a280-a46f542208d4",
   "metadata": {},
   "outputs": [],
   "source": [
    "layers = [Linear(2,16), \n",
    "          ReLU(),\n",
    "          Linear(16,8) ,\n",
    "          ReLU(),\n",
    "          Linear(8,1) ,\n",
    "          Sigmoid()]\n",
    "\n",
    "NN = NeuralNetwork(layers=layers)\n",
    "optim = Adam(NN.layers,lr=0.01)\n",
    "loss = CELoss(NN.layers)"
   ]
  },
  {
   "cell_type": "code",
   "execution_count": 25,
   "id": "ae77dcad-6783-48c8-8854-7bcf6cf768ee",
   "metadata": {
    "scrolled": true
   },
   "outputs": [
    {
     "name": "stdout",
     "output_type": "stream",
     "text": [
      "Epoch: 200 \tTrain Loss: 0.2833\n",
      "Epoch: 400 \tTrain Loss: 0.05679\n",
      "Epoch: 600 \tTrain Loss: 0.01969\n",
      "Epoch: 800 \tTrain Loss: 0.00777\n",
      "Epoch: 1000 \tTrain Loss: 0.00324\n",
      "Epoch: 1200 \tTrain Loss: 0.00137\n",
      "Epoch: 1400 \tTrain Loss: 0.00059\n",
      "Epoch: 1600 \tTrain Loss: 0.00025\n",
      "Epoch: 1800 \tTrain Loss: 0.00011\n",
      "Epoch: 2000 \tTrain Loss: 5e-05\n"
     ]
    }
   ],
   "source": [
    "train(NN,X,y,optim,loss,2_000,200)"
   ]
  },
  {
   "cell_type": "code",
   "execution_count": 26,
   "id": "6b30e8d1-d730-4f09-a1a3-f25847a808d2",
   "metadata": {
    "scrolled": true
   },
   "outputs": [
    {
     "name": "stdout",
     "output_type": "stream",
     "text": [
      "Prediction is :  [0 0 1 1]\n",
      "y is :           [0 0 1 1]\n"
     ]
    }
   ],
   "source": [
    "print(\"Prediction is : \" , np.round(NN.predict(X).reshape(4,)).astype(int))\n",
    "print(\"y is :          \" , y.reshape(4,))"
   ]
  },
  {
   "cell_type": "markdown",
   "id": "ea750e8e-32e1-4258-880a-7c2f424cad59",
   "metadata": {
    "jp-MarkdownHeadingCollapsed": true
   },
   "source": [
    "<h3>Good Job!</h3>"
   ]
  },
  {
   "cell_type": "markdown",
   "id": "7c183276-7e1a-4cd4-863f-1039dc07346e",
   "metadata": {},
   "source": [
    "<h3>SimpleOptimizer vs RMSPropOptimizer vs Adam</h3>"
   ]
  },
  {
   "cell_type": "code",
   "execution_count": 27,
   "id": "695540e4-03d4-42d4-b249-3ce44c839963",
   "metadata": {},
   "outputs": [],
   "source": [
    "import pandas as pd\n",
    "def check_optimizer(optimizer_class):\n",
    "    layers = [Linear(2,16), \n",
    "          ReLU(),\n",
    "          Linear(16,8) ,\n",
    "          ReLU(),\n",
    "          Linear(8,1) ,\n",
    "          Sigmoid()]\n",
    "\n",
    "    NN = NeuralNetwork(layers=layers)\n",
    "    optim = optimizer_class(NN.layers,lr=0.01)\n",
    "    loss = CELoss(NN.layers)\n",
    "    losses = train(model=NN,X=X,y=y,optimizer=optim,loss=loss,epochs=1000,print_every=np.inf,batch_size=-1,return_losses=True)\n",
    "    return losses"
   ]
  },
  {
   "cell_type": "code",
   "execution_count": 28,
   "id": "3a4bf1bb-3038-4e4d-b552-f58e90645525",
   "metadata": {},
   "outputs": [],
   "source": [
    "simple_losses = check_optimizer(SimpleOptimizer)\n",
    "rmsprop_losses = check_optimizer(RMSProp)\n",
    "adam_losses = check_optimizer(Adam)"
   ]
  },
  {
   "cell_type": "code",
   "execution_count": 29,
   "id": "100534be-1a76-45ab-b25a-3f506566234e",
   "metadata": {},
   "outputs": [],
   "source": [
    "import matplotlib.pyplot as plt\n",
    "import seaborn as sns\n",
    "%matplotlib inline"
   ]
  },
  {
   "cell_type": "code",
   "execution_count": 30,
   "id": "1f8f3cc1-431d-4535-b152-62107d4d4a3a",
   "metadata": {},
   "outputs": [
    {
     "data": {
      "image/png": "[encoded data removed]",
      "text/plain": [
       "<Figure size 640x480 with 1 Axes>"
      ]
     },
     "metadata": {},
     "output_type": "display_data"
    }
   ],
   "source": [
    "sns.lineplot(simple_losses[50:],label='Simple')\n",
    "sns.lineplot(rmsprop_losses[50:],label='Rmsprop')\n",
    "sns.lineplot(adam_losses[50:],label='Adam')\n",
    "plt.xlabel('Epoch')\n",
    "plt.ylabel('Loss')\n",
    "plt.show()"
   ]
  },
  {
   "cell_type": "markdown",
   "id": "4b763c28-edc9-4ffe-afa1-b812e8d356ad",
   "metadata": {},
   "source": [
    "<h3>We can see how the Models using RMSProp or Adam optimizers converge faster!</h3>"
   ]
  },
  {
   "cell_type": "markdown",
   "id": "43a4f046-0613-444d-b0ab-b856bb2fd1b2",
   "metadata": {},
   "source": [
    "<h4>Verifying that the model works with multiple outputs (we simply expanded y to 2 classes)</h4>"
   ]
  },
  {
   "cell_type": "code",
   "execution_count": 31,
   "id": "1b29bcb5-e790-40e7-9bb6-7309111c2b7d",
   "metadata": {},
   "outputs": [],
   "source": [
    "X = np.array([[0,0],[1,1],[0,1],[1,0]])\n",
    "y = np.array([[1,0],[1,0],[0,1],[0,1]])"
   ]
  },
  {
   "cell_type": "code",
   "execution_count": 32,
   "id": "f150737e-7058-43b0-afef-003a0fc957f2",
   "metadata": {},
   "outputs": [],
   "source": [
    "def check_two_classes(loss_class):\n",
    "    layers = [Linear(2,16), \n",
    "          Tanh(),\n",
    "          Linear(16,8) ,\n",
    "          Tanh(),\n",
    "          Linear(8,2) ,\n",
    "          Sigmoid()]\n",
    "\n",
    "    NN = NeuralNetwork(layers=layers)\n",
    "    optim = RMSProp(NN.layers,lr=0.1)\n",
    "    loss = loss_class(NN.layers)\n",
    "    train(NN,X,y,optim,loss,2_000,np.inf)\n",
    "    print(\"Prediction is : \\n\" , np.round(NN.forward(X)).astype(int))"
   ]
  },
  {
   "cell_type": "code",
   "execution_count": 33,
   "id": "0dc7694e-be99-4e70-87e6-0220d807180d",
   "metadata": {},
   "outputs": [
    {
     "name": "stdout",
     "output_type": "stream",
     "text": [
      "Prediction is : \n",
      " [[1 0]\n",
      " [1 0]\n",
      " [0 1]\n",
      " [0 1]]\n"
     ]
    }
   ],
   "source": [
    "check_two_classes(MSELoss)"
   ]
  },
  {
   "cell_type": "code",
   "execution_count": 34,
   "id": "614c5712-5693-4a39-a782-0e28894ee0a7",
   "metadata": {},
   "outputs": [
    {
     "name": "stdout",
     "output_type": "stream",
     "text": [
      "Prediction is : \n",
      " [[1 0]\n",
      " [1 0]\n",
      " [0 1]\n",
      " [0 1]]\n"
     ]
    }
   ],
   "source": [
    "check_two_classes(CELoss)"
   ]
  },
  {
   "cell_type": "markdown",
   "id": "ff99171b-1c48-4795-a1ba-42c5e64542a2",
   "metadata": {},
   "source": [
    "<h1>Regularization Techniques</h1>"
   ]
  },
  {
   "cell_type": "markdown",
   "id": "1b290305-5d13-45e4-84ec-1dd622eb64c4",
   "metadata": {},
   "source": [
    "<h3>Importing regression data</h3>"
   ]
  },
  {
   "cell_type": "code",
   "execution_count": 35,
   "id": "63d745e1-044d-4c65-84ad-e8b8ae485abf",
   "metadata": {},
   "outputs": [],
   "source": [
    "import s3fs\n",
    "import pandas as pd\n",
    "data = pd.read_csv('house.csv')[['MSSubClass','LotFrontage','LotArea','PoolArea','MoSold','YrSold','SalePrice']].dropna()\n",
    "\n",
    "for col in data.columns:\n",
    "    M = data[col].max()\n",
    "    m = data[col].min()\n",
    "    data[col] = (data[col]-m)/(M-m)\n",
    "\n",
    "X = data.drop('SalePrice',axis=1).values\n",
    "y = data['SalePrice'].values\n",
    "y = y.reshape((len(y),1))\n",
    "\n",
    "train_size = int(len(X)*0.9)\n",
    "\n",
    "X_train,X_val = X[:train_size],X[train_size:]\n",
    "y_train,y_val = y[:train_size],y[train_size:]"
   ]
  },
  {
   "cell_type": "code",
   "execution_count": 36,
   "id": "c272929b-02b7-4ecb-83e0-7dcf9ce1d72c",
   "metadata": {},
   "outputs": [
    {
     "data": {
      "text/plain": [
       "((1080, 6), (1080, 1))"
      ]
     },
     "execution_count": 36,
     "metadata": {},
     "output_type": "execute_result"
    }
   ],
   "source": [
    "X_train.shape,y_train.shape"
   ]
  },
  {
   "cell_type": "code",
   "execution_count": 37,
   "id": "365d4cc2-a54c-48da-93eb-2f22944d49d6",
   "metadata": {},
   "outputs": [],
   "source": [
    "def train_model_and_plot_graph(NN,layers,loss):\n",
    "    optim = RMSProp(NN.layers,lr=0.001)\n",
    "    losses = train(model=NN,\n",
    "               X=X_train,\n",
    "               y=y_train,\n",
    "               optimizer=optim,\n",
    "               loss=loss,\n",
    "               epochs=3500,\n",
    "               print_every=700,\n",
    "               batch_size=-1,\n",
    "               return_losses=True,\n",
    "               X_val=X_val,\n",
    "               y_val=y_val)\n",
    "    train_loss = losses[0]\n",
    "    val_loss = losses[1]\n",
    "    train_loss_smoothed = pd.Series(train_loss[100:]).rolling(window=50).mean()\n",
    "    val_loss_smoothed = pd.Series(val_loss[100:]).rolling(window=50).mean()    \n",
    "    sns.lineplot(data=train_loss_smoothed, label='Train Loss (Smoothed)')\n",
    "    sns.lineplot(data=val_loss_smoothed, label='Validation Loss (Smoothed)')\n",
    "    plt.show()\n",
    "    print(\"-------------------------\")\n",
    "    print(\"Validation error : \" , np.sqrt(np.mean((NN.predict(X_val)-y_val)**2)))"
   ]
  },
  {
   "cell_type": "code",
   "execution_count": 38,
   "id": "891a0207-6ef3-4795-af85-8d24d660b809",
   "metadata": {
    "scrolled": true
   },
   "outputs": [
    {
     "name": "stdout",
     "output_type": "stream",
     "text": [
      "Epoch: 700 \tTrain Loss: 0.00832 \tValidation Loss: 0.00893\n",
      "Epoch: 1400 \tTrain Loss: 0.00718 \tValidation Loss: 0.00965\n",
      "Epoch: 2100 \tTrain Loss: 0.00673 \tValidation Loss: 0.01078\n",
      "Epoch: 2800 \tTrain Loss: 0.00625 \tValidation Loss: 0.01118\n",
      "Epoch: 3500 \tTrain Loss: 0.00583 \tValidation Loss: 0.01369\n"
     ]
    },
    {
     "data": {
      "image/png": "[encoded data removed]",
      "text/plain": [
       "<Figure size 640x480 with 1 Axes>"
      ]
     },
     "metadata": {},
     "output_type": "display_data"
    },
    {
     "name": "stdout",
     "output_type": "stream",
     "text": [
      "-------------------------\n",
      "Validation error :  0.1170204700833124\n"
     ]
    }
   ],
   "source": [
    "layers = [Linear(6,32), \n",
    "          ReLU(),\n",
    "          Linear(32,16) ,\n",
    "          ReLU(),\n",
    "          Linear(16,16) ,\n",
    "          ReLU(),\n",
    "          Linear(16,1)]\n",
    "NN = NeuralNetwork(layers=layers)\n",
    "loss = MSELoss(NN.layers)\n",
    "train_model_and_plot_graph(NN,layers,loss)"
   ]
  },
  {
   "cell_type": "markdown",
   "id": "e3496eb4-585d-4e88-9527-294d43dbbd7d",
   "metadata": {},
   "source": [
    "<h3>We clearly see in this graph above a case of overfitting</h3>"
   ]
  },
  {
   "cell_type": "code",
   "execution_count": 39,
   "id": "4c5fa03e-9a2a-4e27-9839-95ef4e41e3c3",
   "metadata": {
    "scrolled": true
   },
   "outputs": [
    {
     "name": "stdout",
     "output_type": "stream",
     "text": [
      "Epoch: 700 \tTrain Loss: 0.0128 \tValidation Loss: 0.00916\n",
      "Epoch: 1400 \tTrain Loss: 0.01064 \tValidation Loss: 0.00835\n",
      "Epoch: 2100 \tTrain Loss: 0.00994 \tValidation Loss: 0.00836\n",
      "Epoch: 2800 \tTrain Loss: 0.00945 \tValidation Loss: 0.00824\n",
      "Epoch: 3500 \tTrain Loss: 0.00933 \tValidation Loss: 0.00825\n"
     ]
    },
    {
     "data": {
      "image/png": "[encoded data removed]",
      "text/plain": [
       "<Figure size 640x480 with 1 Axes>"
      ]
     },
     "metadata": {},
     "output_type": "display_data"
    },
    {
     "name": "stdout",
     "output_type": "stream",
     "text": [
      "-------------------------\n",
      "Validation error :  0.0908412528947889\n"
     ]
    }
   ],
   "source": [
    "layers = [Linear(6,32), \n",
    "          ReLU(),\n",
    "          Dropout(0.5),\n",
    "          Linear(32,16) ,\n",
    "          ReLU(),\n",
    "          Dropout(0.5),\n",
    "          Linear(16,16) ,\n",
    "          ReLU(),\n",
    "          Linear(16,1)]\n",
    "NN = NeuralNetwork(layers=layers)\n",
    "loss = MSELoss(NN.layers)\n",
    "train_model_and_plot_graph(NN,layers,loss)"
   ]
  },
  {
   "cell_type": "markdown",
   "id": "f3738cd5-ee13-40c2-a3b7-f4b5a8aafd39",
   "metadata": {},
   "source": [
    "<h3>Big Improvement from the last model</h3>"
   ]
  },
  {
   "cell_type": "code",
   "execution_count": 40,
   "id": "6e2738c2-8d85-4942-aaca-74133453c5bb",
   "metadata": {},
   "outputs": [
    {
     "name": "stdout",
     "output_type": "stream",
     "text": [
      "Epoch: 700 \tTrain Loss: 0.01104 \tValidation Loss: 0.02981\n",
      "Epoch: 1400 \tTrain Loss: 0.01004 \tValidation Loss: 0.02942\n",
      "Epoch: 2100 \tTrain Loss: 0.00946 \tValidation Loss: 0.02972\n",
      "Epoch: 2800 \tTrain Loss: 0.00903 \tValidation Loss: 0.02938\n",
      "Epoch: 3500 \tTrain Loss: 0.00896 \tValidation Loss: 0.02889\n"
     ]
    },
    {
     "data": {
      "image/png": "[encoded data removed]",
      "text/plain": [
       "<Figure size 640x480 with 1 Axes>"
      ]
     },
     "metadata": {},
     "output_type": "display_data"
    },
    {
     "name": "stdout",
     "output_type": "stream",
     "text": [
      "-------------------------\n",
      "Validation error :  0.10614488668808664\n"
     ]
    }
   ],
   "source": [
    "layers = [Linear(6,32), \n",
    "          ReLU(),\n",
    "          Linear(32,16) ,\n",
    "          ReLU(),\n",
    "          Linear(16,16) ,\n",
    "          ReLU(),\n",
    "          Linear(16,1)]\n",
    "NN = NeuralNetwork(layers=layers)\n",
    "loss = MSELoss(NN.layers,L2Regularization(lambd=0.05))\n",
    "train_model_and_plot_graph(NN,layers,loss)"
   ]
  },
  {
   "cell_type": "code",
   "execution_count": 41,
   "id": "b42bea38-8621-4e4d-9134-b80b8fde1675",
   "metadata": {
    "scrolled": true
   },
   "outputs": [
    {
     "name": "stdout",
     "output_type": "stream",
     "text": [
      "Epoch: 700 \tTrain Loss: 0.01534 \tValidation Loss: 0.06388\n",
      "Epoch: 1400 \tTrain Loss: 0.01338 \tValidation Loss: 0.05294\n",
      "Epoch: 2100 \tTrain Loss: 0.01265 \tValidation Loss: 0.04971\n",
      "Epoch: 2800 \tTrain Loss: 0.01202 \tValidation Loss: 0.04724\n",
      "Epoch: 3500 \tTrain Loss: 0.01161 \tValidation Loss: 0.04499\n"
     ]
    },
    {
     "data": {
      "image/png": "[encoded data removed]",
      "text/plain": [
       "<Figure size 640x480 with 1 Axes>"
      ]
     },
     "metadata": {},
     "output_type": "display_data"
    },
    {
     "name": "stdout",
     "output_type": "stream",
     "text": [
      "-------------------------\n",
      "Validation error :  0.0974015537969879\n"
     ]
    }
   ],
   "source": [
    "layers = [Linear(6,32), \n",
    "          ReLU(),\n",
    "          Linear(32,16) ,\n",
    "          ReLU(),\n",
    "          Linear(16,16) ,\n",
    "          ReLU(),\n",
    "          Linear(16,1)]\n",
    "NN = NeuralNetwork(layers=layers)\n",
    "loss = MSELoss(NN.layers,L1Regularization(lambd=0.05))\n",
    "train_model_and_plot_graph(NN,layers,loss)"
   ]
  },
  {
   "cell_type": "markdown",
   "id": "54f50ba7-fa5f-4a22-a43a-50d6db4af23c",
   "metadata": {},
   "source": [
    "<h3>Regularization actually solved the overfitting problem, both the L1 and L2 and the Dropout</h3>"
   ]
  },
  {
   "cell_type": "markdown",
   "id": "731c39cd-a818-46c0-886d-824bb3b5ae49",
   "metadata": {},
   "source": [
    "<h2>Comparing to LinearRegression</h2>"
   ]
  },
  {
   "cell_type": "code",
   "execution_count": 42,
   "id": "f0333c2f-01e5-4cbb-8c31-41f4ce1e9fc2",
   "metadata": {},
   "outputs": [],
   "source": [
    "def error(y_true,y_pred):\n",
    "    return np.sqrt(np.sum((y_true-y_pred)**2))"
   ]
  },
  {
   "cell_type": "code",
   "execution_count": 43,
   "id": "720cd520-1859-4c42-a223-94d4a87192f6",
   "metadata": {},
   "outputs": [],
   "source": [
    "from sklearn.linear_model import LinearRegression\n",
    "lr = LinearRegression()\n",
    "lr.fit(X,y.reshape(len(y),))\n",
    "lr_pred = lr.predict(X_val)\n",
    "lr_error = error(lr_pred.flatten(),y_val.flatten())"
   ]
  },
  {
   "cell_type": "code",
   "execution_count": 120,
   "id": "40b9b43d-a5bd-4a49-adbc-40165764928b",
   "metadata": {},
   "outputs": [],
   "source": [
    "layers = [Linear(6,32), \n",
    "          ReLU(),\n",
    "          Linear(32,32) ,\n",
    "          ReLU(),\n",
    "          Linear(32,16) ,\n",
    "          ReLU(),\n",
    "          Linear(16,1)]\n",
    "NN = NeuralNetwork(layers=layers)\n",
    "optim = Adam(NN.layers,lr=0.01)\n",
    "loss = MSELoss(NN.layers,L1Regularization(lambd=0.05))"
   ]
  },
  {
   "cell_type": "code",
   "execution_count": 124,
   "id": "090bbe07-0ff8-446c-897b-9d5a920eb01a",
   "metadata": {
    "scrolled": true
   },
   "outputs": [
    {
     "name": "stdout",
     "output_type": "stream",
     "text": [
      "Epoch: 500 \tTrain Loss: 0.01503\n",
      "Epoch: 1000 \tTrain Loss: 0.01557\n",
      "Epoch: 1500 \tTrain Loss: 0.01567\n",
      "Epoch: 2000 \tTrain Loss: 0.01506\n",
      "Epoch: 2500 \tTrain Loss: 0.01535\n",
      "Epoch: 3000 \tTrain Loss: 0.01537\n",
      "Epoch: 3500 \tTrain Loss: 0.01531\n",
      "Epoch: 4000 \tTrain Loss: 0.01576\n",
      "Epoch: 4500 \tTrain Loss: 0.01525\n",
      "Epoch: 5000 \tTrain Loss: 0.0155\n"
     ]
    }
   ],
   "source": [
    "train(model=NN,\n",
    "               X=X_train,\n",
    "               y=y_train,\n",
    "               optimizer=optim,\n",
    "               loss=loss,\n",
    "               epochs=5_000,\n",
    "               print_every=500,\n",
    "               batch_size=128)"
   ]
  },
  {
   "cell_type": "code",
   "execution_count": 125,
   "id": "7fcf7eab-7703-43b8-bb3f-635f9b186a3a",
   "metadata": {},
   "outputs": [],
   "source": [
    "nn_pred = NN.predict(X_val)\n",
    "nn_error = error(nn_pred.flatten(),y_val.flatten())"
   ]
  },
  {
   "cell_type": "markdown",
   "id": "6fb0e8c9-536a-4cd5-83c2-b21e3d79a7df",
   "metadata": {},
   "source": [
    "<h3>We can see here how the NeuralNetwork with regularization outperformed the LinearRegression</h3>"
   ]
  },
  {
   "cell_type": "code",
   "execution_count": 126,
   "id": "69b3c2ae-a615-42c0-a666-7d297c748afb",
   "metadata": {},
   "outputs": [
    {
     "name": "stdout",
     "output_type": "stream",
     "text": [
      "Linear regression error :  1.00124229139492\n",
      "Neural Network error    :  0.9890753025740487\n"
     ]
    }
   ],
   "source": [
    "print(\"Linear regression error : \" , lr_error)\n",
    "print(\"Neural Network error    : \" , nn_error)"
   ]
  }
 ],
 "metadata": {
  "kernelspec": {
   "display_name": "Python 3 (ipykernel)",
   "language": "python",
   "name": "python3"
  },
  "language_info": {
   "codemirror_mode": {
    "name": "ipython",
    "version": 3
   },
   "file_extension": ".py",
   "mimetype": "text/x-python",
   "name": "python",
   "nbconvert_exporter": "python",
   "pygments_lexer": "ipython3",
   "version": "3.12.4"
  }
 },
 "nbformat": 4,
 "nbformat_minor": 5
}
